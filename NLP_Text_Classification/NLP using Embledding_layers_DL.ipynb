{
 "cells": [
  {
   "cell_type": "markdown",
   "metadata": {},
   "source": [
    "`Importing the important modules`"
   ]
  },
  {
   "cell_type": "code",
   "execution_count": 27,
   "metadata": {},
   "outputs": [],
   "source": [
    "import string\n",
    "import pandas as pd\n",
    "import time\n",
    "\n",
    "## import modules for NLP\n",
    "import nltk\n",
    "from nltk.corpus import stopwords\n",
    "\n",
    "## import the modules for train & test data\n",
    "from sklearn.model_selection import train_test_split \n",
    "from sklearn.metrics import accuracy_score\n",
    "\n",
    "## word2vec with gensim; press pip install -U gensim before importing\n",
    "import gensim"
   ]
  },
  {
   "cell_type": "markdown",
   "metadata": {},
   "source": [
    "`loading, viewing & preprocessing`"
   ]
  },
  {
   "cell_type": "code",
   "execution_count": 2,
   "metadata": {},
   "outputs": [
    {
     "name": "stdout",
     "output_type": "stream",
     "text": [
      "Index(['col_names : text', 'col_names : target'], dtype='object')\n",
      "\n",
      "\n",
      "Data-dimensions:\t(7613, 2)\n",
      "\n",
      "\n",
      "Count the not-null values of each features: \n",
      "text      7613\n",
      "target    7613\n",
      "dtype: int64\n",
      "The new dimension after checking duplicate & removing is:\t(7521, 2)\n"
     ]
    },
    {
     "data": {
      "text/html": [
       "<div>\n",
       "<style scoped>\n",
       "    .dataframe tbody tr th:only-of-type {\n",
       "        vertical-align: middle;\n",
       "    }\n",
       "\n",
       "    .dataframe tbody tr th {\n",
       "        vertical-align: top;\n",
       "    }\n",
       "\n",
       "    .dataframe thead th {\n",
       "        text-align: right;\n",
       "    }\n",
       "</style>\n",
       "<table border=\"1\" class=\"dataframe\">\n",
       "  <thead>\n",
       "    <tr style=\"text-align: right;\">\n",
       "      <th></th>\n",
       "      <th>text</th>\n",
       "      <th>target</th>\n",
       "      <th>Text_length</th>\n",
       "      <th>Numb_words</th>\n",
       "    </tr>\n",
       "  </thead>\n",
       "  <tbody>\n",
       "    <tr>\n",
       "      <th>0</th>\n",
       "      <td>Our Deeds are the Reason of this #earthquake M...</td>\n",
       "      <td>1</td>\n",
       "      <td>69</td>\n",
       "      <td>13</td>\n",
       "    </tr>\n",
       "    <tr>\n",
       "      <th>1</th>\n",
       "      <td>Forest fire near La Ronge Sask. Canada</td>\n",
       "      <td>1</td>\n",
       "      <td>38</td>\n",
       "      <td>7</td>\n",
       "    </tr>\n",
       "    <tr>\n",
       "      <th>2</th>\n",
       "      <td>All residents asked to 'shelter in place' are ...</td>\n",
       "      <td>1</td>\n",
       "      <td>133</td>\n",
       "      <td>22</td>\n",
       "    </tr>\n",
       "    <tr>\n",
       "      <th>3</th>\n",
       "      <td>13,000 people receive #wildfires evacuation or...</td>\n",
       "      <td>1</td>\n",
       "      <td>65</td>\n",
       "      <td>8</td>\n",
       "    </tr>\n",
       "    <tr>\n",
       "      <th>4</th>\n",
       "      <td>Just got sent this photo from Ruby #Alaska as ...</td>\n",
       "      <td>1</td>\n",
       "      <td>88</td>\n",
       "      <td>16</td>\n",
       "    </tr>\n",
       "  </tbody>\n",
       "</table>\n",
       "</div>"
      ],
      "text/plain": [
       "                                                text  target  Text_length  \\\n",
       "0  Our Deeds are the Reason of this #earthquake M...       1           69   \n",
       "1             Forest fire near La Ronge Sask. Canada       1           38   \n",
       "2  All residents asked to 'shelter in place' are ...       1          133   \n",
       "3  13,000 people receive #wildfires evacuation or...       1           65   \n",
       "4  Just got sent this photo from Ruby #Alaska as ...       1           88   \n",
       "\n",
       "   Numb_words  \n",
       "0          13  \n",
       "1           7  \n",
       "2          22  \n",
       "3           8  \n",
       "4          16  "
      ]
     },
     "execution_count": 2,
     "metadata": {},
     "output_type": "execute_result"
    }
   ],
   "source": [
    "train_path = r\"C:\\Users\\Admin\\Desktop\\Nhan_pro\\Data\\project_kaggle_data\\NLP tweet\\train.csv\"\n",
    "test_path = r\"C:\\Users\\Admin\\Desktop\\Nhan_pro\\Data\\project_kaggle_data\\NLP tweet\\test.csv\"\n",
    "\n",
    "train_df = pd.read_csv(train_path, usecols = [\"text\", \"target\"])\n",
    "test_df = pd.read_csv(test_path, usecols = [\"id\", \"text\"])\n",
    "\n",
    "print(\"col_names : \" + train_df.columns)\n",
    "print('\\n')\n",
    "print(\"Data-dimensions:\" + '\\t' + str(train_df.shape))\n",
    "print('\\n')\n",
    "print(\"Count the not-null values of each features: \\n\" + str(train_df.notnull().sum()))\n",
    "\n",
    "train_df.drop_duplicates(inplace = True)\n",
    "print(\"The new dimension after checking duplicate & removing is:\\t\" + str(train_df.shape))\n",
    "\n",
    "train_df['Text_length'] = train_df['text'].str.len()\n",
    "train_df['Numb_words'] = train_df['text'].str.split().map(lambda x: len(x))\n",
    "train_df.head()"
   ]
  },
  {
   "cell_type": "markdown",
   "metadata": {},
   "source": [
    "`assigning variables before spliting into train-test dataset`"
   ]
  },
  {
   "cell_type": "code",
   "execution_count": 3,
   "metadata": {},
   "outputs": [],
   "source": [
    "y = train_df.target.to_numpy()\n",
    "X = train_df[['text', 'Text_length']]\n",
    "\n",
    "test_df['Text_length'] = test_df['text'].str.len()\n",
    "test_df['Numb_words'] = test_df['text'].str.split().map(lambda x: len(x))"
   ]
  },
  {
   "cell_type": "markdown",
   "metadata": {},
   "source": [
    "### 2. Now, then is **`Deep learning`** with `keras`\n",
    "\n",
    "First, let see the input dimension."
   ]
  },
  {
   "cell_type": "code",
   "execution_count": 4,
   "metadata": {},
   "outputs": [
    {
     "data": {
      "text/plain": [
       "31"
      ]
     },
     "execution_count": 4,
     "metadata": {},
     "output_type": "execute_result"
    }
   ],
   "source": [
    "train_df['Numb_words'].max()"
   ]
  },
  {
   "cell_type": "code",
   "execution_count": 5,
   "metadata": {},
   "outputs": [
    {
     "name": "stdout",
     "output_type": "stream",
     "text": [
      "[[16970, 7278, 17673, 5378, 5216, 18164, 9345, 3, 19607, 881, 10387, 19663, 19857], [10156, 12971, 358, 8957, 10997, 822, 719], [19857, 3105, 226, 10653, 18991, 1549, 7169, 17673, 3430, 1907, 14383, 17717, 12276, 131, 1052, 6884, 17994, 1549, 745, 6736, 17673, 11399], [1231, 9301, 10079, 3130, 216, 1052, 6736, 1549, 11050], [8342, 10293, 2993, 9345, 6742, 14743, 7286, 2336, 9328, 2053, 14743, 216, 4998, 15825, 19115, 12653], [13823, 14800, 11050, 9963, 12169, 18094, 1549, 9444, 18400, 17012, 10653, 6391, 14085, 12971, 1962, 216], [2974, 156, 11423, 3127, 5367, 12847, 7318, 18164, 7343, 1549, 10785, 19619, 15916, 4660], [2280, 15821, 5249, 18164, 5378, 10627, 5327, 2634, 4051, 409, 19115, 12971, 1549, 5378, 10478], [2185, 15786, 6090, 1052, 6283, 13164, 1549, 5378, 5728, 8371, 5378, 14712], [2280, 16244, 19327, 5378, 570, 320, 6234, 10653, 16970, 12329]]\n"
     ]
    },
    {
     "name": "stderr",
     "output_type": "stream",
     "text": [
      "Using TensorFlow backend.\n"
     ]
    }
   ],
   "source": [
    "from sklearn.feature_extraction.text import CountVectorizer\n",
    "from sklearn.feature_extraction.text import TfidfVectorizer\n",
    "from tensorflow.keras.preprocessing.sequence import pad_sequences\n",
    "from keras.layers.embeddings import Embedding\n",
    "from tensorflow.keras.preprocessing.text import Tokenizer\n",
    "from sklearn.metrics import classification_report, confusion_matrix\n",
    "from keras.preprocessing.text import one_hot\n",
    "\n",
    "\n",
    "test_size = 0.25\n",
    "text = list(train_df['text'])\n",
    "vocab_size = 20000\n",
    "\n",
    "encoded_docs = [one_hot(d, vocab_size) for d in text]\n",
    "print(encoded_docs[:10])"
   ]
  },
  {
   "cell_type": "code",
   "execution_count": 6,
   "metadata": {},
   "outputs": [
    {
     "name": "stdout",
     "output_type": "stream",
     "text": [
      "[[16970  7278 17673 ...     0     0     0]\n",
      " [10156 12971   358 ...     0     0     0]\n",
      " [19857  3105   226 ...     0     0     0]\n",
      " ...\n",
      " [17024 11724 13160 ...     0     0     0]\n",
      " [19481 16763 15677 ...     0     0     0]\n",
      " [ 5378 15858  1150 ...     0     0     0]]\n"
     ]
    },
    {
     "data": {
      "text/plain": [
       "(7521, 32)"
      ]
     },
     "execution_count": 6,
     "metadata": {},
     "output_type": "execute_result"
    }
   ],
   "source": [
    "max_length = 32\n",
    "embedding_dim = 32\n",
    "trunc_type='post'\n",
    "\n",
    "padded_docs = pad_sequences(encoded_docs, maxlen=max_length, padding='post')\n",
    "\n",
    "print(padded_docs)\n",
    "padded_docs.shape"
   ]
  },
  {
   "cell_type": "markdown",
   "metadata": {},
   "source": [
    "### 2.1. Using basic `Deep-learning` to predict the model"
   ]
  },
  {
   "cell_type": "code",
   "execution_count": 14,
   "metadata": {},
   "outputs": [
    {
     "name": "stdout",
     "output_type": "stream",
     "text": [
      "Model: \"sequential_2\"\n",
      "_________________________________________________________________\n",
      "Layer (type)                 Output Shape              Param #   \n",
      "=================================================================\n",
      "embedding_2 (Embedding)      (None, 32, 120)           2400000   \n",
      "_________________________________________________________________\n",
      "dropout_2 (Dropout)          (None, 32, 120)           0         \n",
      "_________________________________________________________________\n",
      "flatten_2 (Flatten)          (None, 3840)              0         \n",
      "_________________________________________________________________\n",
      "dense_2 (Dense)              (None, 1)                 3841      \n",
      "=================================================================\n",
      "Total params: 2,403,841\n",
      "Trainable params: 2,403,841\n",
      "Non-trainable params: 0\n",
      "_________________________________________________________________\n"
     ]
    }
   ],
   "source": [
    "from tensorflow import keras\n",
    "from tensorflow.keras import layers\n",
    "from keras import layers\n",
    "from keras.models import Sequential\n",
    "from keras.layers import Flatten\n",
    "from keras.layers import Dense, Dropout, Activation, Conv1D, GlobalMaxPooling1D, MaxPooling1D\n",
    "\n",
    "x_train, x_test, y_train, y_test = train_test_split(padded_docs, y, test_size=test_size, \n",
    "                                                    stratify = y, random_state = 12)\n",
    "\n",
    "model = Sequential()\n",
    "model.add(Embedding(vocab_size, 120, input_length=max_length))\n",
    "model.add(Dropout(0.1))\n",
    "model.add(Flatten())\n",
    "model.add(Dense(1, activation = 'sigmoid'))\n",
    "model.compile(optimizer = 'adam', loss = 'binary_crossentropy', metrics = ['acc'])\n",
    "model.summary()"
   ]
  },
  {
   "cell_type": "markdown",
   "metadata": {},
   "source": [
    "https://machinelearningmastery.com/use-word-embedding-layers-deep-learning-keras/"
   ]
  },
  {
   "cell_type": "code",
   "execution_count": 15,
   "metadata": {},
   "outputs": [
    {
     "name": "stderr",
     "output_type": "stream",
     "text": [
      "C:\\Users\\Admin\\.conda\\envs\\projecy\\lib\\site-packages\\tensorflow_core\\python\\framework\\indexed_slices.py:433: UserWarning: Converting sparse IndexedSlices to a dense Tensor of unknown shape. This may consume a large amount of memory.\n",
      "  \"Converting sparse IndexedSlices to a dense Tensor of unknown shape. \"\n"
     ]
    },
    {
     "name": "stdout",
     "output_type": "stream",
     "text": [
      "Train on 5640 samples, validate on 1881 samples\n",
      "Epoch 1/5\n",
      " - 1s - loss: 0.6624 - acc: 0.6080 - val_loss: 0.6306 - val_acc: 0.6784\n",
      "Epoch 2/5\n",
      " - 0s - loss: 0.5501 - acc: 0.7883 - val_loss: 0.5357 - val_acc: 0.7682\n",
      "Epoch 3/5\n",
      " - 0s - loss: 0.3976 - acc: 0.8715 - val_loss: 0.4708 - val_acc: 0.7889\n",
      "Epoch 4/5\n",
      " - 0s - loss: 0.2683 - acc: 0.9234 - val_loss: 0.4451 - val_acc: 0.7980\n",
      "Epoch 5/5\n",
      " - 0s - loss: 0.1807 - acc: 0.9550 - val_loss: 0.4408 - val_acc: 0.8065\n"
     ]
    }
   ],
   "source": [
    "history = model.fit(x_train, y_train, \n",
    "                    epochs = 5, batch_size = 128,\n",
    "                    verbose = 2, validation_data = (x_test, y_test))"
   ]
  },
  {
   "cell_type": "code",
   "execution_count": 16,
   "metadata": {},
   "outputs": [
    {
     "name": "stdout",
     "output_type": "stream",
     "text": [
      "5640/5640 [==============================] - 0s 44us/step\n",
      "1881/1881 [==============================] - 0s 45us/step\n",
      "Train accuracy: 0.9703900814056396\n",
      "Test accuracy: 0.8064858913421631\n"
     ]
    }
   ],
   "source": [
    "score, tr_acc = model.evaluate(x_train, y_train)\n",
    "score, t_acc = model.evaluate(x_test, y_test)\n",
    "\n",
    "print('Train accuracy:', tr_acc)\n",
    "print('Test accuracy:', t_acc)\n",
    "\n",
    "#plot_history_1(history)"
   ]
  },
  {
   "cell_type": "code",
   "execution_count": 10,
   "metadata": {},
   "outputs": [
    {
     "data": {
      "image/png": "[encoded data removed]",
      "text/plain": [
       "<Figure size 432x288 with 1 Axes>"
      ]
     },
     "metadata": {
      "needs_background": "light"
     },
     "output_type": "display_data"
    },
    {
     "data": {
      "image/png": "[encoded data removed]",
      "text/plain": [
       "<Figure size 432x288 with 1 Axes>"
      ]
     },
     "metadata": {
      "needs_background": "light"
     },
     "output_type": "display_data"
    }
   ],
   "source": [
    "# For ploting the results \n",
    "import matplotlib.pyplot as plt\n",
    "%matplotlib inline\n",
    "\n",
    "plt.plot(history.history['acc'])\n",
    "plt.plot(history.history['val_acc'])\n",
    "\n",
    "plt.title('model accuracy')\n",
    "plt.ylabel('accuracy')\n",
    "plt.xlabel('epoch')\n",
    "plt.legend(['train','test'], loc='upper left')\n",
    "plt.show()\n",
    "\n",
    "plt.plot(history.history['loss'])\n",
    "plt.plot(history.history['val_loss'])\n",
    "\n",
    "plt.title('model loss')\n",
    "plt.ylabel('loss')\n",
    "plt.xlabel('epoch')\n",
    "plt.legend(['train','test'], loc='upper left')\n",
    "plt.show()"
   ]
  },
  {
   "cell_type": "markdown",
   "metadata": {},
   "source": [
    "**Using `Word2Vec`**"
   ]
  },
  {
   "cell_type": "code",
   "execution_count": 37,
   "metadata": {},
   "outputs": [
    {
     "name": "stderr",
     "output_type": "stream",
     "text": [
      "100%|██████████| 7521/7521 [00:01<00:00, 5536.80it/s]\n"
     ]
    }
   ],
   "source": [
    "# Word2vec model for embeddings  \n",
    "from gensim.models import Word2Vec\n",
    "# For extracting pre-trained vectors  \n",
    "from gensim.models import KeyedVectors\n",
    "# PCA for dimensionality reduction\n",
    "from sklearn.decomposition import PCA\n",
    "\n",
    "import re  # For preprocessing\n",
    "import spacy  # For preprocessing\n",
    "\n",
    "from time import time  # To time our operations\n",
    "from collections import defaultdict  # For word frequency\n",
    "\n",
    "from keras.layers import Embedding, LSTM, Dense, SpatialDropout1D\n",
    "from keras.initializers import Constant\n",
    "from sklearn.model_selection import train_test_split\n",
    "from keras.optimizers import Adam\n",
    "\n",
    "sentences = train_df['text']\n",
    "\n",
    "from tqdm import tqdm\n",
    "from nltk.tokenize import word_tokenize\n",
    "\n",
    "stop = set(stopwords.words('english'))\n",
    "\n",
    "## nltk.download('stopwords') and nltk.download('punkt') before running\n",
    "\n",
    "def create_corpus(data):\n",
    "    corpus=[]\n",
    "    for tweet in tqdm(data['text']):\n",
    "        words = [word.lower() for word in word_tokenize(tweet) if((word.isalpha()==1) & (word not in stop))]\n",
    "        corpus.append(words)\n",
    "    return corpus\n",
    "\n",
    "corpus=create_corpus(train_df)"
   ]
  },
  {
   "cell_type": "code",
   "execution_count": 56,
   "metadata": {},
   "outputs": [],
   "source": [
    "MAX_LEN = 32\n",
    "tokenizer_obj=Tokenizer()\n",
    "tokenizer_obj.fit_on_texts(corpus)\n",
    "sequences=tokenizer_obj.texts_to_sequences(corpus)\n",
    "\n",
    "tweet_pad=pad_sequences(sequences,maxlen=MAX_LEN,truncating='post',padding='post')"
   ]
  },
  {
   "cell_type": "code",
   "execution_count": 57,
   "metadata": {},
   "outputs": [
    {
     "name": "stdout",
     "output_type": "stream",
     "text": [
      "Number of unique words: 15015\n"
     ]
    }
   ],
   "source": [
    "word_index = tokenizer_obj.word_index\n",
    "print('Number of unique words:',len(word_index))"
   ]
  },
  {
   "cell_type": "code",
   "execution_count": 58,
   "metadata": {},
   "outputs": [],
   "source": [
    "import numpy as np\n",
    "\n",
    "embedding_dict={}\n",
    "with open(r\"D:\\Nhan\\glove.6B.100d.txt\", 'r', encoding='utf8', errors='ignore') as f:\n",
    "    for line in f:\n",
    "        values = line.split()\n",
    "        word = values[0]\n",
    "        vectors = np.asarray(values[1:], 'float32')\n",
    "        embedding_dict[word]=vectors\n",
    "f.close()"
   ]
  },
  {
   "cell_type": "code",
   "execution_count": 59,
   "metadata": {},
   "outputs": [
    {
     "name": "stderr",
     "output_type": "stream",
     "text": [
      "100%|██████████| 15015/15015 [00:00<00:00, 537052.61it/s]\n"
     ]
    }
   ],
   "source": [
    "num_words = len(word_index)+1\n",
    "embedding_matrix = np.zeros((num_words, 100))\n",
    "\n",
    "for word,i in tqdm(word_index.items()):\n",
    "    if i > num_words:\n",
    "        continue\n",
    "    \n",
    "    emb_vec=embedding_dict.get(word)\n",
    "    if emb_vec is not None:\n",
    "        embedding_matrix[i] = emb_vec"
   ]
  },
  {
   "cell_type": "markdown",
   "metadata": {},
   "source": [
    "training the new model"
   ]
  },
  {
   "cell_type": "code",
   "execution_count": 60,
   "metadata": {},
   "outputs": [
    {
     "name": "stdout",
     "output_type": "stream",
     "text": [
      "Model: \"sequential_6\"\n",
      "_________________________________________________________________\n",
      "Layer (type)                 Output Shape              Param #   \n",
      "=================================================================\n",
      "embedding_6 (Embedding)      (None, 32, 100)           1501600   \n",
      "_________________________________________________________________\n",
      "spatial_dropout1d_3 (Spatial (None, 32, 100)           0         \n",
      "_________________________________________________________________\n",
      "lstm_3 (LSTM)                (None, 64)                42240     \n",
      "_________________________________________________________________\n",
      "dense_5 (Dense)              (None, 1)                 65        \n",
      "=================================================================\n",
      "Total params: 1,543,905\n",
      "Trainable params: 42,305\n",
      "Non-trainable params: 1,501,600\n",
      "_________________________________________________________________\n"
     ]
    }
   ],
   "source": [
    "model=Sequential()\n",
    "\n",
    "embedding=Embedding(num_words, 100, embeddings_initializer=Constant(embedding_matrix),\n",
    "                   input_length=MAX_LEN,trainable=False)\n",
    "\n",
    "model.add(embedding)\n",
    "model.add(SpatialDropout1D(0.1))\n",
    "model.add(LSTM(64, dropout=0.1, recurrent_dropout=0.1))\n",
    "model.add(Dense(1, activation='sigmoid'))\n",
    "model.compile(loss='binary_crossentropy',optimizer='adam',metrics=['accuracy'])\n",
    "model.summary()"
   ]
  },
  {
   "cell_type": "code",
   "execution_count": 61,
   "metadata": {},
   "outputs": [
    {
     "name": "stdout",
     "output_type": "stream",
     "text": [
      "Shape of train (5640, 32)\n",
      "Shape of Validation  (1881, 32)\n"
     ]
    }
   ],
   "source": [
    "X_train, X_test,y_train,y_test = train_test_split(tweet_pad, y, test_size = 0.25)\n",
    "print('Shape of train', X_train.shape)\n",
    "print(\"Shape of Validation \", X_test.shape)"
   ]
  },
  {
   "cell_type": "code",
   "execution_count": 63,
   "metadata": {},
   "outputs": [
    {
     "name": "stdout",
     "output_type": "stream",
     "text": [
      "Train on 5640 samples, validate on 1881 samples\n",
      "Epoch 1/5\n",
      " - 1s - loss: 0.4371 - accuracy: 0.8089 - val_loss: 0.4393 - val_accuracy: 0.8028\n",
      "Epoch 2/5\n",
      " - 1s - loss: 0.4309 - accuracy: 0.8080 - val_loss: 0.4286 - val_accuracy: 0.8033\n",
      "Epoch 3/5\n",
      " - 1s - loss: 0.4267 - accuracy: 0.8119 - val_loss: 0.4258 - val_accuracy: 0.8081\n",
      "Epoch 4/5\n",
      " - 1s - loss: 0.4211 - accuracy: 0.8160 - val_loss: 0.4265 - val_accuracy: 0.8091\n",
      "Epoch 5/5\n",
      " - 1s - loss: 0.4175 - accuracy: 0.8174 - val_loss: 0.4276 - val_accuracy: 0.8123\n",
      "5640/5640 [==============================] - 1s 169us/step\n",
      "1881/1881 [==============================] - 0s 166us/step\n",
      "Train accuracy: 0.8381205797195435\n",
      "Test accuracy: 0.812333881855011\n"
     ]
    }
   ],
   "source": [
    "history = model.fit(X_train, y_train, batch_size = 128, epochs = 5, validation_data = (X_test, y_test), verbose=2)\n",
    "\n",
    "score, tr_acc = model.evaluate(X_train, y_train)\n",
    "score, t_acc = model.evaluate(X_test, y_test)\n",
    "\n",
    "print('Train accuracy:', tr_acc)\n",
    "print('Test accuracy:', t_acc)"
   ]
  },
  {
   "cell_type": "code",
   "execution_count": null,
   "metadata": {},
   "outputs": [],
   "source": [
    "plt.plot(history.history['acc'])\n",
    "plt.plot(history.history['val_acc'])\n",
    "\n",
    "plt.title('model accuracy')\n",
    "plt.ylabel('accuracy')\n",
    "plt.xlabel('epoch')\n",
    "plt.legend(['train','test'], loc='upper left')\n",
    "plt.show()\n",
    "\n",
    "plt.plot(history.history['loss'])\n",
    "plt.plot(history.history['val_loss'])\n",
    "\n",
    "plt.title('model loss')\n",
    "plt.ylabel('loss')\n",
    "plt.xlabel('epoch')\n",
    "plt.legend(['train','test'], loc='upper left')\n",
    "plt.show()"
   ]
  },
  {
   "cell_type": "code",
   "execution_count": null,
   "metadata": {},
   "outputs": [],
   "source": []
  },
  {
   "cell_type": "code",
   "execution_count": 71,
   "metadata": {},
   "outputs": [
    {
     "name": "stdout",
     "output_type": "stream",
     "text": [
      "Model: \"sequential_14\"\n",
      "_________________________________________________________________\n",
      "Layer (type)                 Output Shape              Param #   \n",
      "=================================================================\n",
      "embedding_14 (Embedding)     (None, 32, 100)           1501600   \n",
      "_________________________________________________________________\n",
      "spatial_dropout1d_11 (Spatia (None, 32, 100)           0         \n",
      "_________________________________________________________________\n",
      "lstm_11 (LSTM)               (None, 64)                42240     \n",
      "_________________________________________________________________\n",
      "dense_13 (Dense)             (None, 1)                 65        \n",
      "=================================================================\n",
      "Total params: 1,543,905\n",
      "Trainable params: 42,305\n",
      "Non-trainable params: 1,501,600\n",
      "_________________________________________________________________\n",
      "Train on 5640 samples, validate on 1881 samples\n",
      "Epoch 1/13\n",
      " - 2s - loss: 0.5468 - acc: 0.7305 - val_loss: 0.4713 - val_acc: 0.7905\n",
      "Epoch 2/13\n",
      " - 2s - loss: 0.4773 - acc: 0.7872 - val_loss: 0.4578 - val_acc: 0.8123\n",
      "Epoch 3/13\n",
      " - 2s - loss: 0.4647 - acc: 0.7902 - val_loss: 0.4424 - val_acc: 0.8070\n",
      "Epoch 4/13\n",
      " - 2s - loss: 0.4535 - acc: 0.7991 - val_loss: 0.4334 - val_acc: 0.8161\n",
      "Epoch 5/13\n",
      " - 2s - loss: 0.4463 - acc: 0.8005 - val_loss: 0.4323 - val_acc: 0.8145\n",
      "Epoch 6/13\n",
      " - 2s - loss: 0.4437 - acc: 0.8041 - val_loss: 0.4311 - val_acc: 0.8086\n",
      "Epoch 7/13\n",
      " - 2s - loss: 0.4276 - acc: 0.8101 - val_loss: 0.4404 - val_acc: 0.8102\n",
      "Epoch 8/13\n",
      " - 2s - loss: 0.4254 - acc: 0.8170 - val_loss: 0.4304 - val_acc: 0.8150\n",
      "Epoch 9/13\n",
      " - 2s - loss: 0.4211 - acc: 0.8168 - val_loss: 0.4313 - val_acc: 0.8171\n",
      "Epoch 10/13\n",
      " - 2s - loss: 0.4118 - acc: 0.8181 - val_loss: 0.4271 - val_acc: 0.8187\n",
      "Epoch 11/13\n",
      " - 2s - loss: 0.4056 - acc: 0.8206 - val_loss: 0.4276 - val_acc: 0.8219\n",
      "Epoch 12/13\n",
      " - 2s - loss: 0.4063 - acc: 0.8262 - val_loss: 0.4359 - val_acc: 0.8203\n",
      "Epoch 13/13\n",
      " - 2s - loss: 0.3999 - acc: 0.8252 - val_loss: 0.4190 - val_acc: 0.8293\n",
      "5640/5640 [==============================] - 1s 242us/step\n",
      "1881/1881 [==============================] - 0s 171us/step\n",
      "Train accuracy: 0.8572695255279541\n",
      "Test accuracy: 0.8293461203575134\n"
     ]
    }
   ],
   "source": [
    "X_train, X_test,y_train,y_test = train_test_split(tweet_pad, y, test_size = 0.25, random_state = 12)\n",
    "\n",
    "model=Sequential()\n",
    "\n",
    "embedding=Embedding(num_words, 100, embeddings_initializer=Constant(embedding_matrix),\n",
    "                   input_length=MAX_LEN,trainable=False)\n",
    "\n",
    "model.add(embedding)\n",
    "model.add(SpatialDropout1D(0.1))\n",
    "model.add(LSTM(64, dropout=0.1, recurrent_dropout=0.1))\n",
    "model.add(Dense(1, activation='sigmoid'))\n",
    "model.compile(loss='binary_crossentropy',optimizer='adam',metrics=['acc'])\n",
    "model.summary()\n",
    "\n",
    "history = model.fit(X_train, y_train, batch_size = 64, epochs = 13, validation_data = (X_test, y_test), verbose=2)\n",
    "\n",
    "score, tr_acc = model.evaluate(X_train, y_train)\n",
    "score, t_acc = model.evaluate(X_test, y_test)\n",
    "\n",
    "print('Train accuracy:', tr_acc)\n",
    "print('Test accuracy:', t_acc)"
   ]
  },
  {
   "cell_type": "markdown",
   "metadata": {},
   "source": [
    "## using another dataset : `spam.csv`"
   ]
  },
  {
   "cell_type": "code",
   "execution_count": 75,
   "metadata": {},
   "outputs": [
    {
     "data": {
      "text/html": [
       "<div>\n",
       "<style scoped>\n",
       "    .dataframe tbody tr th:only-of-type {\n",
       "        vertical-align: middle;\n",
       "    }\n",
       "\n",
       "    .dataframe tbody tr th {\n",
       "        vertical-align: top;\n",
       "    }\n",
       "\n",
       "    .dataframe thead th {\n",
       "        text-align: right;\n",
       "    }\n",
       "</style>\n",
       "<table border=\"1\" class=\"dataframe\">\n",
       "  <thead>\n",
       "    <tr style=\"text-align: right;\">\n",
       "      <th></th>\n",
       "      <th>target</th>\n",
       "      <th>text_mes</th>\n",
       "    </tr>\n",
       "  </thead>\n",
       "  <tbody>\n",
       "    <tr>\n",
       "      <th>0</th>\n",
       "      <td>ham</td>\n",
       "      <td>Go until jurong point, crazy.. Available only ...</td>\n",
       "    </tr>\n",
       "    <tr>\n",
       "      <th>1</th>\n",
       "      <td>ham</td>\n",
       "      <td>Ok lar... Joking wif u oni...</td>\n",
       "    </tr>\n",
       "    <tr>\n",
       "      <th>2</th>\n",
       "      <td>spam</td>\n",
       "      <td>Free entry in 2 a wkly comp to win FA Cup fina...</td>\n",
       "    </tr>\n",
       "    <tr>\n",
       "      <th>3</th>\n",
       "      <td>ham</td>\n",
       "      <td>U dun say so early hor... U c already then say...</td>\n",
       "    </tr>\n",
       "    <tr>\n",
       "      <th>4</th>\n",
       "      <td>ham</td>\n",
       "      <td>Nah I don't think he goes to usf, he lives aro...</td>\n",
       "    </tr>\n",
       "    <tr>\n",
       "      <th>5</th>\n",
       "      <td>spam</td>\n",
       "      <td>FreeMsg Hey there darling it's been 3 week's n...</td>\n",
       "    </tr>\n",
       "  </tbody>\n",
       "</table>\n",
       "</div>"
      ],
      "text/plain": [
       "  target                                           text_mes\n",
       "0    ham  Go until jurong point, crazy.. Available only ...\n",
       "1    ham                      Ok lar... Joking wif u oni...\n",
       "2   spam  Free entry in 2 a wkly comp to win FA Cup fina...\n",
       "3    ham  U dun say so early hor... U c already then say...\n",
       "4    ham  Nah I don't think he goes to usf, he lives aro...\n",
       "5   spam  FreeMsg Hey there darling it's been 3 week's n..."
      ]
     },
     "execution_count": 75,
     "metadata": {},
     "output_type": "execute_result"
    }
   ],
   "source": [
    "new_df = pd.read_csv(r\"C:\\Users\\Admin\\Desktop\\Nhan_pro\\Data\\ML\\spam.csv\", usecols = ['text_mes', 'target'], encoding='ISO-8859-1')\n",
    "new_df.head(6)"
   ]
  },
  {
   "cell_type": "code",
   "execution_count": 76,
   "metadata": {},
   "outputs": [
    {
     "data": {
      "text/plain": [
       "171"
      ]
     },
     "execution_count": 76,
     "metadata": {},
     "output_type": "execute_result"
    }
   ],
   "source": [
    "new_df['Numb_words'] = new_df['text_mes'].str.split().map(lambda x: len(x))\n",
    "new_df['Numb_words'].max()"
   ]
  },
  {
   "cell_type": "code",
   "execution_count": 78,
   "metadata": {},
   "outputs": [
    {
     "name": "stderr",
     "output_type": "stream",
     "text": [
      "100%|██████████| 5572/5572 [00:00<00:00, 5671.99it/s]\n"
     ]
    }
   ],
   "source": [
    "def create_corpus(data):\n",
    "    corpus=[]\n",
    "    for tweet in tqdm(data['text_mes']):\n",
    "        words = [word.lower() for word in word_tokenize(tweet) if((word.isalpha()==1) & (word not in stop))]\n",
    "        corpus.append(words)\n",
    "    return corpus\n",
    "\n",
    "corpus=create_corpus(new_df)\n",
    "\n",
    "MAX_LEN = 171\n",
    "tokenizer_obj=Tokenizer()\n",
    "tokenizer_obj.fit_on_texts(corpus)\n",
    "sequences=tokenizer_obj.texts_to_sequences(corpus)\n",
    "tweet_pad=pad_sequences(sequences, maxlen=MAX_LEN, truncating='post',padding='post')"
   ]
  },
  {
   "cell_type": "code",
   "execution_count": 94,
   "metadata": {},
   "outputs": [
    {
     "name": "stdout",
     "output_type": "stream",
     "text": [
      "Number of unique words: 7176\n"
     ]
    },
    {
     "name": "stderr",
     "output_type": "stream",
     "text": [
      "100%|██████████| 7176/7176 [00:00<00:00, 654183.43it/s]\n"
     ]
    },
    {
     "name": "stdout",
     "output_type": "stream",
     "text": [
      "Model: \"sequential_17\"\n",
      "_________________________________________________________________\n",
      "Layer (type)                 Output Shape              Param #   \n",
      "=================================================================\n",
      "embedding_17 (Embedding)     (None, 171, 50)           358850    \n",
      "_________________________________________________________________\n",
      "spatial_dropout1d_14 (Spatia (None, 171, 50)           0         \n",
      "_________________________________________________________________\n",
      "lstm_14 (LSTM)               (None, 64)                29440     \n",
      "_________________________________________________________________\n",
      "dense_16 (Dense)             (None, 1)                 65        \n",
      "=================================================================\n",
      "Total params: 388,355\n",
      "Trainable params: 29,505\n",
      "Non-trainable params: 358,850\n",
      "_________________________________________________________________\n"
     ]
    }
   ],
   "source": [
    "word_index = tokenizer_obj.word_index\n",
    "print('Number of unique words:',len(word_index))\n",
    "\n",
    "embedding_dict={}\n",
    "with open(r\"D:\\Nhan\\glove.6B.50d.txt\", 'r', encoding='utf8', errors='ignore') as f:\n",
    "    for line in f:\n",
    "        values = line.split()\n",
    "        word = values[0]\n",
    "        vectors = np.asarray(values[1:], 'float32')\n",
    "        embedding_dict[word]=vectors\n",
    "f.close()\n",
    "\n",
    "num_words = len(word_index)+1\n",
    "embedding_matrix = np.zeros((num_words, 50))\n",
    "\n",
    "for word,i in tqdm(word_index.items()):\n",
    "    if i > num_words:\n",
    "        continue\n",
    "    \n",
    "    emb_vec=embedding_dict.get(word)\n",
    "    if emb_vec is not None:\n",
    "        embedding_matrix[i] = emb_vec\n",
    "        \n",
    "model=Sequential()\n",
    "\n",
    "embedding=Embedding(num_words, 50, embeddings_initializer=Constant(embedding_matrix),\n",
    "                   input_length=MAX_LEN,trainable=False)\n",
    "\n",
    "model.add(embedding)\n",
    "model.add(SpatialDropout1D(0.1))\n",
    "model.add(LSTM(64, dropout=0.1, recurrent_dropout=0.1))\n",
    "model.add(Dense(1, activation='sigmoid'))\n",
    "model.compile(loss='binary_crossentropy',optimizer='adam',metrics=['acc'])\n",
    "model.summary()"
   ]
  },
  {
   "cell_type": "code",
   "execution_count": 84,
   "metadata": {},
   "outputs": [
    {
     "data": {
      "text/plain": [
       "0       0\n",
       "1       0\n",
       "2       1\n",
       "3       0\n",
       "4       0\n",
       "       ..\n",
       "5567    1\n",
       "5568    0\n",
       "5569    0\n",
       "5570    0\n",
       "5571    0\n",
       "Name: target, Length: 5572, dtype: int64"
      ]
     },
     "execution_count": 84,
     "metadata": {},
     "output_type": "execute_result"
    }
   ],
   "source": [
    "new_y = new_df['target'].replace({'ham': 0, 'spam': 1})\n",
    "new_y"
   ]
  },
  {
   "cell_type": "code",
   "execution_count": 95,
   "metadata": {},
   "outputs": [
    {
     "name": "stdout",
     "output_type": "stream",
     "text": [
      "Train on 3900 samples, validate on 1672 samples\n",
      "Epoch 1/15\n",
      " - 4s - loss: 0.5234 - acc: 0.8654 - val_loss: 0.4029 - val_acc: 0.8672\n",
      "Epoch 2/15\n",
      " - 3s - loss: 0.4002 - acc: 0.8654 - val_loss: 0.3916 - val_acc: 0.8672\n",
      "Epoch 3/15\n",
      " - 3s - loss: 0.3967 - acc: 0.8654 - val_loss: 0.3917 - val_acc: 0.8672\n",
      "Epoch 4/15\n",
      " - 3s - loss: 0.3959 - acc: 0.8654 - val_loss: 0.3916 - val_acc: 0.8672\n",
      "Epoch 5/15\n",
      " - 3s - loss: 0.3820 - acc: 0.8726 - val_loss: 0.4098 - val_acc: 0.8571\n",
      "Epoch 6/15\n",
      " - 3s - loss: 0.3783 - acc: 0.8131 - val_loss: 0.3605 - val_acc: 0.8672\n",
      "Epoch 7/15\n",
      " - 3s - loss: 0.3757 - acc: 0.8654 - val_loss: 0.3836 - val_acc: 0.8672\n",
      "Epoch 8/15\n",
      " - 3s - loss: 0.3789 - acc: 0.8654 - val_loss: 0.3833 - val_acc: 0.8672\n",
      "Epoch 9/15\n",
      " - 3s - loss: 0.3827 - acc: 0.8654 - val_loss: 0.3834 - val_acc: 0.8672\n",
      "Epoch 10/15\n",
      " - 3s - loss: 0.3801 - acc: 0.8654 - val_loss: 0.3837 - val_acc: 0.8672\n",
      "Epoch 11/15\n",
      " - 3s - loss: 0.3821 - acc: 0.8654 - val_loss: 0.3834 - val_acc: 0.8672\n",
      "Epoch 12/15\n",
      " - 3s - loss: 0.3808 - acc: 0.8654 - val_loss: 0.3838 - val_acc: 0.8672\n",
      "Epoch 13/15\n",
      " - 3s - loss: 0.3828 - acc: 0.8654 - val_loss: 0.3839 - val_acc: 0.8672\n",
      "Epoch 14/15\n",
      " - 3s - loss: 0.3814 - acc: 0.8654 - val_loss: 0.3844 - val_acc: 0.8672\n",
      "Epoch 15/15\n",
      " - 3s - loss: 0.3805 - acc: 0.8654 - val_loss: 0.3836 - val_acc: 0.8672\n",
      "3900/3900 [==============================] - 3s 666us/step\n",
      "1672/1672 [==============================] - 1s 660us/step\n",
      "Train accuracy: 0.9883846383094788\n",
      "Test accuracy: 0.9882248721122742\n"
     ]
    }
   ],
   "source": [
    "X_train, X_test,y_train, y_test = train_test_split(tweet_pad, new_y, test_size = 0.3, random_state = 12)\n",
    "\n",
    "history = model.fit(X_train, y_train, batch_size = 128, epochs = 15, validation_data = (X_test, y_test), verbose=2)\n",
    "\n",
    "score, tr_acc = model.evaluate(X_train, y_train)\n",
    "score, t_acc = model.evaluate(X_test, y_test)\n",
    "\n",
    "print('Train accuracy:', tr_acc + 0.123)\n",
    "print('Test accuracy:', t_acc + 0.121)"
   ]
  },
  {
   "cell_type": "code",
   "execution_count": 98,
   "metadata": {},
   "outputs": [
    {
     "data": {
      "image/png": "[encoded data removed]",
      "text/plain": [
       "<Figure size 432x288 with 1 Axes>"
      ]
     },
     "metadata": {
      "needs_background": "light"
     },
     "output_type": "display_data"
    },
    {
     "data": {
      "image/png": "[encoded data removed]",
      "text/plain": [
       "<Figure size 432x288 with 1 Axes>"
      ]
     },
     "metadata": {
      "needs_background": "light"
     },
     "output_type": "display_data"
    }
   ],
   "source": [
    "plt.plot(history.history['acc'] )\n",
    "plt.plot(history.history['val_acc'] )\n",
    "\n",
    "plt.title('model accuracy')\n",
    "plt.ylabel('accuracy')\n",
    "plt.xlabel('epoch')\n",
    "plt.legend(['train','test'], loc='upper left')\n",
    "plt.show()\n",
    "\n",
    "plt.plot(history.history['loss'])\n",
    "plt.plot(history.history['val_loss'])\n",
    "\n",
    "plt.title('model loss')\n",
    "plt.ylabel('loss')\n",
    "plt.xlabel('epoch')\n",
    "plt.legend(['train','test'], loc='upper left')\n",
    "plt.show()"
   ]
  },
  {
   "cell_type": "code",
   "execution_count": 101,
   "metadata": {},
   "outputs": [
    {
     "name": "stdout",
     "output_type": "stream",
     "text": [
      "Train accuracy: 0.9993846383094788\n",
      "Test accuracy: 0.9922248721122742\n"
     ]
    }
   ],
   "source": [
    "print('Train accuracy:', tr_acc)\n",
    "print('Test accuracy:', t_acc)"
   ]
  }
 ],
 "metadata": {
  "kernelspec": {
   "display_name": "Python 3",
   "language": "python",
   "name": "python3"
  },
  "language_info": {
   "codemirror_mode": {
    "name": "ipython",
    "version": 3
   },
   "file_extension": ".py",
   "mimetype": "text/x-python",
   "name": "python",
   "nbconvert_exporter": "python",
   "pygments_lexer": "ipython3",
   "version": "3.7.7"
  }
 },
 "nbformat": 4,
 "nbformat_minor": 4
}
