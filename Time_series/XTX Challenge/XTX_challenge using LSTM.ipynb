{
 "cells": [
  {
   "cell_type": "markdown",
   "metadata": {},
   "source": [
    "The aim in this file is to show how to use `keras embedding layers` together with `LSTM`, `GRU`, `bidirectional GRU` and affects of adding  `droupout` & `recurrent_dropout` to advoid overfiting problem!"
   ]
  },
  {
   "cell_type": "code",
   "execution_count": 1,
   "metadata": {},
   "outputs": [
    {
     "name": "stdout",
     "output_type": "stream",
     "text": [
      "Wall time: 14.9 s\n",
      "(2999999, 61)\n"
     ]
    },
    {
     "data": {
      "text/html": [
       "<div>\n",
       "<style scoped>\n",
       "    .dataframe tbody tr th:only-of-type {\n",
       "        vertical-align: middle;\n",
       "    }\n",
       "\n",
       "    .dataframe tbody tr th {\n",
       "        vertical-align: top;\n",
       "    }\n",
       "\n",
       "    .dataframe thead th {\n",
       "        text-align: right;\n",
       "    }\n",
       "</style>\n",
       "<table border=\"1\" class=\"dataframe\">\n",
       "  <thead>\n",
       "    <tr style=\"text-align: right;\">\n",
       "      <th></th>\n",
       "      <th>askRate0</th>\n",
       "      <th>askRate1</th>\n",
       "      <th>askRate2</th>\n",
       "      <th>askRate3</th>\n",
       "      <th>askRate4</th>\n",
       "      <th>askRate5</th>\n",
       "      <th>askRate6</th>\n",
       "      <th>askRate7</th>\n",
       "      <th>askRate8</th>\n",
       "      <th>askRate9</th>\n",
       "      <th>...</th>\n",
       "      <th>bidSize6</th>\n",
       "      <th>bidSize7</th>\n",
       "      <th>bidSize8</th>\n",
       "      <th>bidSize9</th>\n",
       "      <th>bidSize10</th>\n",
       "      <th>bidSize11</th>\n",
       "      <th>bidSize12</th>\n",
       "      <th>bidSize13</th>\n",
       "      <th>bidSize14</th>\n",
       "      <th>y</th>\n",
       "    </tr>\n",
       "  </thead>\n",
       "  <tbody>\n",
       "    <tr>\n",
       "      <th>0</th>\n",
       "      <td>1619.5</td>\n",
       "      <td>1620.0</td>\n",
       "      <td>1621.0</td>\n",
       "      <td>NaN</td>\n",
       "      <td>NaN</td>\n",
       "      <td>NaN</td>\n",
       "      <td>NaN</td>\n",
       "      <td>NaN</td>\n",
       "      <td>NaN</td>\n",
       "      <td>NaN</td>\n",
       "      <td>...</td>\n",
       "      <td>20.0</td>\n",
       "      <td>27.0</td>\n",
       "      <td>11.0</td>\n",
       "      <td>14.0</td>\n",
       "      <td>35.0</td>\n",
       "      <td>10.0</td>\n",
       "      <td>1.0</td>\n",
       "      <td>10.0</td>\n",
       "      <td>13.0</td>\n",
       "      <td>-0.5</td>\n",
       "    </tr>\n",
       "    <tr>\n",
       "      <th>1</th>\n",
       "      <td>1619.5</td>\n",
       "      <td>1620.0</td>\n",
       "      <td>1621.0</td>\n",
       "      <td>1621.5</td>\n",
       "      <td>NaN</td>\n",
       "      <td>NaN</td>\n",
       "      <td>NaN</td>\n",
       "      <td>NaN</td>\n",
       "      <td>NaN</td>\n",
       "      <td>NaN</td>\n",
       "      <td>...</td>\n",
       "      <td>20.0</td>\n",
       "      <td>27.0</td>\n",
       "      <td>11.0</td>\n",
       "      <td>14.0</td>\n",
       "      <td>35.0</td>\n",
       "      <td>10.0</td>\n",
       "      <td>1.0</td>\n",
       "      <td>10.0</td>\n",
       "      <td>13.0</td>\n",
       "      <td>-0.5</td>\n",
       "    </tr>\n",
       "    <tr>\n",
       "      <th>2</th>\n",
       "      <td>1619.5</td>\n",
       "      <td>1620.0</td>\n",
       "      <td>1621.0</td>\n",
       "      <td>1621.5</td>\n",
       "      <td>1622.0</td>\n",
       "      <td>NaN</td>\n",
       "      <td>NaN</td>\n",
       "      <td>NaN</td>\n",
       "      <td>NaN</td>\n",
       "      <td>NaN</td>\n",
       "      <td>...</td>\n",
       "      <td>20.0</td>\n",
       "      <td>27.0</td>\n",
       "      <td>11.0</td>\n",
       "      <td>14.0</td>\n",
       "      <td>35.0</td>\n",
       "      <td>10.0</td>\n",
       "      <td>1.0</td>\n",
       "      <td>10.0</td>\n",
       "      <td>13.0</td>\n",
       "      <td>-0.5</td>\n",
       "    </tr>\n",
       "    <tr>\n",
       "      <th>3</th>\n",
       "      <td>1619.5</td>\n",
       "      <td>1620.0</td>\n",
       "      <td>1621.0</td>\n",
       "      <td>1621.5</td>\n",
       "      <td>1622.0</td>\n",
       "      <td>NaN</td>\n",
       "      <td>NaN</td>\n",
       "      <td>NaN</td>\n",
       "      <td>NaN</td>\n",
       "      <td>NaN</td>\n",
       "      <td>...</td>\n",
       "      <td>20.0</td>\n",
       "      <td>27.0</td>\n",
       "      <td>11.0</td>\n",
       "      <td>14.0</td>\n",
       "      <td>35.0</td>\n",
       "      <td>10.0</td>\n",
       "      <td>1.0</td>\n",
       "      <td>10.0</td>\n",
       "      <td>13.0</td>\n",
       "      <td>-0.5</td>\n",
       "    </tr>\n",
       "    <tr>\n",
       "      <th>4</th>\n",
       "      <td>1619.5</td>\n",
       "      <td>1620.0</td>\n",
       "      <td>1621.0</td>\n",
       "      <td>1621.5</td>\n",
       "      <td>1622.0</td>\n",
       "      <td>NaN</td>\n",
       "      <td>NaN</td>\n",
       "      <td>NaN</td>\n",
       "      <td>NaN</td>\n",
       "      <td>NaN</td>\n",
       "      <td>...</td>\n",
       "      <td>20.0</td>\n",
       "      <td>27.0</td>\n",
       "      <td>11.0</td>\n",
       "      <td>14.0</td>\n",
       "      <td>35.0</td>\n",
       "      <td>10.0</td>\n",
       "      <td>1.0</td>\n",
       "      <td>10.0</td>\n",
       "      <td>13.0</td>\n",
       "      <td>-0.5</td>\n",
       "    </tr>\n",
       "    <tr>\n",
       "      <th>5</th>\n",
       "      <td>1619.5</td>\n",
       "      <td>1620.0</td>\n",
       "      <td>1621.0</td>\n",
       "      <td>1621.5</td>\n",
       "      <td>1622.0</td>\n",
       "      <td>NaN</td>\n",
       "      <td>NaN</td>\n",
       "      <td>NaN</td>\n",
       "      <td>NaN</td>\n",
       "      <td>NaN</td>\n",
       "      <td>...</td>\n",
       "      <td>20.0</td>\n",
       "      <td>27.0</td>\n",
       "      <td>11.0</td>\n",
       "      <td>14.0</td>\n",
       "      <td>35.0</td>\n",
       "      <td>10.0</td>\n",
       "      <td>1.0</td>\n",
       "      <td>10.0</td>\n",
       "      <td>13.0</td>\n",
       "      <td>-0.5</td>\n",
       "    </tr>\n",
       "    <tr>\n",
       "      <th>6</th>\n",
       "      <td>1619.5</td>\n",
       "      <td>1620.0</td>\n",
       "      <td>1621.0</td>\n",
       "      <td>1621.5</td>\n",
       "      <td>1622.0</td>\n",
       "      <td>1623.0</td>\n",
       "      <td>NaN</td>\n",
       "      <td>NaN</td>\n",
       "      <td>NaN</td>\n",
       "      <td>NaN</td>\n",
       "      <td>...</td>\n",
       "      <td>20.0</td>\n",
       "      <td>27.0</td>\n",
       "      <td>11.0</td>\n",
       "      <td>14.0</td>\n",
       "      <td>35.0</td>\n",
       "      <td>10.0</td>\n",
       "      <td>1.0</td>\n",
       "      <td>10.0</td>\n",
       "      <td>13.0</td>\n",
       "      <td>-0.5</td>\n",
       "    </tr>\n",
       "    <tr>\n",
       "      <th>7</th>\n",
       "      <td>1619.5</td>\n",
       "      <td>1620.0</td>\n",
       "      <td>1621.0</td>\n",
       "      <td>1621.5</td>\n",
       "      <td>1622.0</td>\n",
       "      <td>1623.0</td>\n",
       "      <td>1623.5</td>\n",
       "      <td>NaN</td>\n",
       "      <td>NaN</td>\n",
       "      <td>NaN</td>\n",
       "      <td>...</td>\n",
       "      <td>20.0</td>\n",
       "      <td>27.0</td>\n",
       "      <td>11.0</td>\n",
       "      <td>14.0</td>\n",
       "      <td>35.0</td>\n",
       "      <td>10.0</td>\n",
       "      <td>1.0</td>\n",
       "      <td>10.0</td>\n",
       "      <td>13.0</td>\n",
       "      <td>-0.5</td>\n",
       "    </tr>\n",
       "  </tbody>\n",
       "</table>\n",
       "<p>8 rows × 61 columns</p>\n",
       "</div>"
      ],
      "text/plain": [
       "   askRate0  askRate1  askRate2  askRate3  askRate4  askRate5  askRate6  \\\n",
       "0    1619.5    1620.0    1621.0       NaN       NaN       NaN       NaN   \n",
       "1    1619.5    1620.0    1621.0    1621.5       NaN       NaN       NaN   \n",
       "2    1619.5    1620.0    1621.0    1621.5    1622.0       NaN       NaN   \n",
       "3    1619.5    1620.0    1621.0    1621.5    1622.0       NaN       NaN   \n",
       "4    1619.5    1620.0    1621.0    1621.5    1622.0       NaN       NaN   \n",
       "5    1619.5    1620.0    1621.0    1621.5    1622.0       NaN       NaN   \n",
       "6    1619.5    1620.0    1621.0    1621.5    1622.0    1623.0       NaN   \n",
       "7    1619.5    1620.0    1621.0    1621.5    1622.0    1623.0    1623.5   \n",
       "\n",
       "   askRate7  askRate8  askRate9  ...  bidSize6  bidSize7  bidSize8  bidSize9  \\\n",
       "0       NaN       NaN       NaN  ...      20.0      27.0      11.0      14.0   \n",
       "1       NaN       NaN       NaN  ...      20.0      27.0      11.0      14.0   \n",
       "2       NaN       NaN       NaN  ...      20.0      27.0      11.0      14.0   \n",
       "3       NaN       NaN       NaN  ...      20.0      27.0      11.0      14.0   \n",
       "4       NaN       NaN       NaN  ...      20.0      27.0      11.0      14.0   \n",
       "5       NaN       NaN       NaN  ...      20.0      27.0      11.0      14.0   \n",
       "6       NaN       NaN       NaN  ...      20.0      27.0      11.0      14.0   \n",
       "7       NaN       NaN       NaN  ...      20.0      27.0      11.0      14.0   \n",
       "\n",
       "   bidSize10  bidSize11  bidSize12  bidSize13  bidSize14    y  \n",
       "0       35.0       10.0        1.0       10.0       13.0 -0.5  \n",
       "1       35.0       10.0        1.0       10.0       13.0 -0.5  \n",
       "2       35.0       10.0        1.0       10.0       13.0 -0.5  \n",
       "3       35.0       10.0        1.0       10.0       13.0 -0.5  \n",
       "4       35.0       10.0        1.0       10.0       13.0 -0.5  \n",
       "5       35.0       10.0        1.0       10.0       13.0 -0.5  \n",
       "6       35.0       10.0        1.0       10.0       13.0 -0.5  \n",
       "7       35.0       10.0        1.0       10.0       13.0 -0.5  \n",
       "\n",
       "[8 rows x 61 columns]"
      ]
     },
     "execution_count": 1,
     "metadata": {},
     "output_type": "execute_result"
    }
   ],
   "source": [
    "import os\n",
    "import numpy as np \n",
    "import pandas as pd\n",
    "import seaborn as sns\n",
    "import matplotlib.pyplot as plt\n",
    "\n",
    "%time df = pd.read_csv(r\"D:\\Nhan\\Data\\XTX_data.csv\")\n",
    "\n",
    "print(df.shape)\n",
    "df.head(8)"
   ]
  },
  {
   "cell_type": "code",
   "execution_count": 2,
   "metadata": {},
   "outputs": [
    {
     "data": {
      "text/html": [
       "<div>\n",
       "<style scoped>\n",
       "    .dataframe tbody tr th:only-of-type {\n",
       "        vertical-align: middle;\n",
       "    }\n",
       "\n",
       "    .dataframe tbody tr th {\n",
       "        vertical-align: top;\n",
       "    }\n",
       "\n",
       "    .dataframe thead th {\n",
       "        text-align: right;\n",
       "    }\n",
       "</style>\n",
       "<table border=\"1\" class=\"dataframe\">\n",
       "  <thead>\n",
       "    <tr style=\"text-align: right;\">\n",
       "      <th></th>\n",
       "      <th>askRate0</th>\n",
       "      <th>askRate1</th>\n",
       "      <th>askRate2</th>\n",
       "      <th>askRate3</th>\n",
       "      <th>askRate4</th>\n",
       "      <th>askRate5</th>\n",
       "      <th>askRate6</th>\n",
       "      <th>askRate7</th>\n",
       "      <th>askRate8</th>\n",
       "      <th>askRate9</th>\n",
       "      <th>...</th>\n",
       "      <th>bidSize6</th>\n",
       "      <th>bidSize7</th>\n",
       "      <th>bidSize8</th>\n",
       "      <th>bidSize9</th>\n",
       "      <th>bidSize10</th>\n",
       "      <th>bidSize11</th>\n",
       "      <th>bidSize12</th>\n",
       "      <th>bidSize13</th>\n",
       "      <th>bidSize14</th>\n",
       "      <th>y</th>\n",
       "    </tr>\n",
       "  </thead>\n",
       "  <tbody>\n",
       "    <tr>\n",
       "      <th>0</th>\n",
       "      <td>1619.5</td>\n",
       "      <td>1620.0</td>\n",
       "      <td>1621.0</td>\n",
       "      <td>0.0</td>\n",
       "      <td>0.0</td>\n",
       "      <td>0.0</td>\n",
       "      <td>0.0</td>\n",
       "      <td>0.0</td>\n",
       "      <td>0.0</td>\n",
       "      <td>0.0</td>\n",
       "      <td>...</td>\n",
       "      <td>20.0</td>\n",
       "      <td>27.0</td>\n",
       "      <td>11.0</td>\n",
       "      <td>14.0</td>\n",
       "      <td>35.0</td>\n",
       "      <td>10.0</td>\n",
       "      <td>1.0</td>\n",
       "      <td>10.0</td>\n",
       "      <td>13.0</td>\n",
       "      <td>-0.5</td>\n",
       "    </tr>\n",
       "    <tr>\n",
       "      <th>1</th>\n",
       "      <td>1619.5</td>\n",
       "      <td>1620.0</td>\n",
       "      <td>1621.0</td>\n",
       "      <td>1621.5</td>\n",
       "      <td>0.0</td>\n",
       "      <td>0.0</td>\n",
       "      <td>0.0</td>\n",
       "      <td>0.0</td>\n",
       "      <td>0.0</td>\n",
       "      <td>0.0</td>\n",
       "      <td>...</td>\n",
       "      <td>20.0</td>\n",
       "      <td>27.0</td>\n",
       "      <td>11.0</td>\n",
       "      <td>14.0</td>\n",
       "      <td>35.0</td>\n",
       "      <td>10.0</td>\n",
       "      <td>1.0</td>\n",
       "      <td>10.0</td>\n",
       "      <td>13.0</td>\n",
       "      <td>-0.5</td>\n",
       "    </tr>\n",
       "    <tr>\n",
       "      <th>2</th>\n",
       "      <td>1619.5</td>\n",
       "      <td>1620.0</td>\n",
       "      <td>1621.0</td>\n",
       "      <td>1621.5</td>\n",
       "      <td>1622.0</td>\n",
       "      <td>0.0</td>\n",
       "      <td>0.0</td>\n",
       "      <td>0.0</td>\n",
       "      <td>0.0</td>\n",
       "      <td>0.0</td>\n",
       "      <td>...</td>\n",
       "      <td>20.0</td>\n",
       "      <td>27.0</td>\n",
       "      <td>11.0</td>\n",
       "      <td>14.0</td>\n",
       "      <td>35.0</td>\n",
       "      <td>10.0</td>\n",
       "      <td>1.0</td>\n",
       "      <td>10.0</td>\n",
       "      <td>13.0</td>\n",
       "      <td>-0.5</td>\n",
       "    </tr>\n",
       "    <tr>\n",
       "      <th>3</th>\n",
       "      <td>1619.5</td>\n",
       "      <td>1620.0</td>\n",
       "      <td>1621.0</td>\n",
       "      <td>1621.5</td>\n",
       "      <td>1622.0</td>\n",
       "      <td>0.0</td>\n",
       "      <td>0.0</td>\n",
       "      <td>0.0</td>\n",
       "      <td>0.0</td>\n",
       "      <td>0.0</td>\n",
       "      <td>...</td>\n",
       "      <td>20.0</td>\n",
       "      <td>27.0</td>\n",
       "      <td>11.0</td>\n",
       "      <td>14.0</td>\n",
       "      <td>35.0</td>\n",
       "      <td>10.0</td>\n",
       "      <td>1.0</td>\n",
       "      <td>10.0</td>\n",
       "      <td>13.0</td>\n",
       "      <td>-0.5</td>\n",
       "    </tr>\n",
       "    <tr>\n",
       "      <th>4</th>\n",
       "      <td>1619.5</td>\n",
       "      <td>1620.0</td>\n",
       "      <td>1621.0</td>\n",
       "      <td>1621.5</td>\n",
       "      <td>1622.0</td>\n",
       "      <td>0.0</td>\n",
       "      <td>0.0</td>\n",
       "      <td>0.0</td>\n",
       "      <td>0.0</td>\n",
       "      <td>0.0</td>\n",
       "      <td>...</td>\n",
       "      <td>20.0</td>\n",
       "      <td>27.0</td>\n",
       "      <td>11.0</td>\n",
       "      <td>14.0</td>\n",
       "      <td>35.0</td>\n",
       "      <td>10.0</td>\n",
       "      <td>1.0</td>\n",
       "      <td>10.0</td>\n",
       "      <td>13.0</td>\n",
       "      <td>-0.5</td>\n",
       "    </tr>\n",
       "  </tbody>\n",
       "</table>\n",
       "<p>5 rows × 61 columns</p>\n",
       "</div>"
      ],
      "text/plain": [
       "   askRate0  askRate1  askRate2  askRate3  askRate4  askRate5  askRate6  \\\n",
       "0    1619.5    1620.0    1621.0       0.0       0.0       0.0       0.0   \n",
       "1    1619.5    1620.0    1621.0    1621.5       0.0       0.0       0.0   \n",
       "2    1619.5    1620.0    1621.0    1621.5    1622.0       0.0       0.0   \n",
       "3    1619.5    1620.0    1621.0    1621.5    1622.0       0.0       0.0   \n",
       "4    1619.5    1620.0    1621.0    1621.5    1622.0       0.0       0.0   \n",
       "\n",
       "   askRate7  askRate8  askRate9  ...  bidSize6  bidSize7  bidSize8  bidSize9  \\\n",
       "0       0.0       0.0       0.0  ...      20.0      27.0      11.0      14.0   \n",
       "1       0.0       0.0       0.0  ...      20.0      27.0      11.0      14.0   \n",
       "2       0.0       0.0       0.0  ...      20.0      27.0      11.0      14.0   \n",
       "3       0.0       0.0       0.0  ...      20.0      27.0      11.0      14.0   \n",
       "4       0.0       0.0       0.0  ...      20.0      27.0      11.0      14.0   \n",
       "\n",
       "   bidSize10  bidSize11  bidSize12  bidSize13  bidSize14    y  \n",
       "0       35.0       10.0        1.0       10.0       13.0 -0.5  \n",
       "1       35.0       10.0        1.0       10.0       13.0 -0.5  \n",
       "2       35.0       10.0        1.0       10.0       13.0 -0.5  \n",
       "3       35.0       10.0        1.0       10.0       13.0 -0.5  \n",
       "4       35.0       10.0        1.0       10.0       13.0 -0.5  \n",
       "\n",
       "[5 rows x 61 columns]"
      ]
     },
     "execution_count": 2,
     "metadata": {},
     "output_type": "execute_result"
    }
   ],
   "source": [
    "df = df = df.fillna(0)\n",
    "df.head()"
   ]
  },
  {
   "cell_type": "markdown",
   "metadata": {},
   "source": [
    "#### Generating function on lookback and delay; yielding timeseries samples and their targets \n",
    "\n",
    "- `min_index` and `max_index`—Indices in the data array that delimit which timesteps to draw from. This is useful for keeping a segment of the data for validation and another for testing.\n",
    "- `shuffle` — Whether to shuffle the samples or draw them in chronological order"
   ]
  },
  {
   "cell_type": "code",
   "execution_count": 3,
   "metadata": {},
   "outputs": [],
   "source": [
    "def generator(data, \n",
    "              lookback, ## Observations will go back some days, e.g 5 days = 720 lookback.\n",
    "              delay,   ## Targets will be 24 hours in the future\n",
    "              min_index, \n",
    "              max_index, \n",
    "              shuffle = False, \n",
    "              batch_size = 128, ## The number of samples per batch; default = 128\n",
    "              step = 6  ## Observations will be sampled at one data point per hour (10 mins/ timestep).\n",
    "             ):\n",
    "    \n",
    "    X = data.iloc[:, :-1]\n",
    "    y = data.y.cumsum()\n",
    "    \n",
    "    ## normalize data\n",
    "    X = X.to_numpy()\n",
    "    mean = X.mean(axis=0)\n",
    "    X -= mean\n",
    "    std = X.std(axis=0)\n",
    "    X /= std\n",
    "    \n",
    "    ## normalize target\n",
    "    y -= y.mean()\n",
    "    y /= y.std()\n",
    "    \n",
    "    # generate sample & target\n",
    "    if max_index is None:\n",
    "        max_index = len(X) - delay - 1\n",
    "    i = min_index + lookback\n",
    "    while 1:\n",
    "        if shuffle:\n",
    "            rows = np.random.randint(min_index + lookback, max_index, size=batch_size)\n",
    "        else:\n",
    "            if i + batch_size >= max_index:\n",
    "                i = min_index + lookback\n",
    "            rows = np.arange(i, min(i + batch_size, max_index))\n",
    "            i += len(rows)\n",
    "        samples = np.zeros(( len(rows), lookback // step, X.shape[-1] ))\n",
    "        targets = np.zeros((len(rows), ))\n",
    "        for j, row in enumerate(rows):\n",
    "            indices = range(rows[j] - lookback, rows[j], step)\n",
    "            samples[j] = X[indices]\n",
    "            targets[j] = y[rows[j] + delay]\n",
    "        return samples, targets"
   ]
  },
  {
   "cell_type": "code",
   "execution_count": 4,
   "metadata": {},
   "outputs": [
    {
     "data": {
      "text/plain": [
       "((128, 50, 60), (128, 50, 60), (128, 50, 60), (128,))"
      ]
     },
     "execution_count": 4,
     "metadata": {},
     "output_type": "execute_result"
    }
   ],
   "source": [
    "train_rate = 0.6\n",
    "nb_train = int(len(df)*train_rate)\n",
    "nb_vld = int(len(df) * 0.2)\n",
    "\n",
    "lookback, step, delay, batch_size = 100, 2, 1, 128\n",
    "\n",
    "train_gen = generator(df,\n",
    "                        lookback=lookback,\n",
    "                        delay=delay,\n",
    "                        min_index=0,\n",
    "                        max_index = nb_train,\n",
    "                        step=step,\n",
    "                        batch_size=batch_size)\n",
    "## Validation generator\n",
    "val_gen = generator(df,\n",
    "                        lookback=lookback,\n",
    "                        delay = delay,\n",
    "                        min_index = nb_train + 1,\n",
    "                        max_index = nb_train + nb_vld,\n",
    "                        step=step,\n",
    "                        batch_size=batch_size)\n",
    "test_gen = generator(df,\n",
    "                        lookback=lookback,\n",
    "                        delay=delay,\n",
    "                        min_index = nb_train + nb_vld + 1,\n",
    "                        max_index=None,\n",
    "                        step=step,\n",
    "                        batch_size=batch_size)\n",
    "\n",
    "X_train, y_train = train_gen\n",
    "X_test, y_test = test_gen\n",
    "X_val, y_val = val_gen\n",
    "\n",
    "X_train.shape, X_test.shape, X_val.shape, y_train.shape"
   ]
  },
  {
   "cell_type": "markdown",
   "metadata": {},
   "source": [
    "## Without using LSTM\n",
    "\n",
    "The following listing shows a `fully connected model` that starts by `flattening` the data and then runs it through `4 Dense layers`. Note the `lack of` `activation function` on the `last Dense layer`, which is typical for a `regression problem`. \n",
    "\n",
    "We will use `MAE (mean absolute error)` as the loss. Because we want to evaluate on the `exact same data` and with the `exact same metric` we have done with the `common-sense approach`, the results will be `directly comparable`."
   ]
  },
  {
   "cell_type": "code",
   "execution_count": 5,
   "metadata": {},
   "outputs": [
    {
     "name": "stderr",
     "output_type": "stream",
     "text": [
      "Using TensorFlow backend.\n"
     ]
    },
    {
     "name": "stdout",
     "output_type": "stream",
     "text": [
      "Model: \"sequential_1\"\n",
      "_________________________________________________________________\n",
      "Layer (type)                 Output Shape              Param #   \n",
      "=================================================================\n",
      "flatten_1 (Flatten)          (None, 3000)              0         \n",
      "_________________________________________________________________\n",
      "dense_1 (Dense)              (None, 64)                192064    \n",
      "_________________________________________________________________\n",
      "dense_2 (Dense)              (None, 32)                2080      \n",
      "_________________________________________________________________\n",
      "dense_3 (Dense)              (None, 16)                528       \n",
      "_________________________________________________________________\n",
      "dense_4 (Dense)              (None, 1)                 17        \n",
      "=================================================================\n",
      "Total params: 194,689\n",
      "Trainable params: 194,689\n",
      "Non-trainable params: 0\n",
      "_________________________________________________________________\n"
     ]
    }
   ],
   "source": [
    "from keras.models import Sequential\n",
    "from tensorflow.keras import backend as K\n",
    "from keras.models import Sequential\n",
    "from keras import layers\n",
    "from keras.layers import Embedding, Flatten, Dense\n",
    "\n",
    "model_0 = Sequential()\n",
    "model_0.add(layers.Flatten(input_shape=(lookback // step, X_train.shape[-1])))\n",
    "model_0.add(layers.Dense(64))\n",
    "model_0.add(layers.Dense(32))\n",
    "model_0.add(layers.Dense(16, activation='relu'))\n",
    "model_0.add(layers.Dense(1))\n",
    "model_0.summary()"
   ]
  },
  {
   "cell_type": "code",
   "execution_count": 6,
   "metadata": {},
   "outputs": [
    {
     "name": "stdout",
     "output_type": "stream",
     "text": [
      "Train on 128 samples, validate on 128 samples\n",
      "Epoch 1/15\n",
      "150/150 [==============================] - 1s 6ms/step - loss: 0.5047 - val_loss: 0.0257\n",
      "Epoch 2/15\n",
      "150/150 [==============================] - 1s 4ms/step - loss: 0.1434 - val_loss: 0.0364\n",
      "Epoch 3/15\n",
      "150/150 [==============================] - 1s 4ms/step - loss: 0.0994 - val_loss: 0.0293\n",
      "Epoch 4/15\n",
      "150/150 [==============================] - 1s 4ms/step - loss: 0.1019 - val_loss: 0.0313\n",
      "Epoch 5/15\n",
      "150/150 [==============================] - 1s 4ms/step - loss: 0.1005 - val_loss: 0.0338\n",
      "Epoch 6/15\n",
      "150/150 [==============================] - 1s 8ms/step - loss: 0.0845 - val_loss: 0.0356\n",
      "Epoch 7/15\n",
      "150/150 [==============================] - 1s 5ms/step - loss: 0.0795 - val_loss: 0.0396\n",
      "Epoch 8/15\n",
      "150/150 [==============================] - 1s 4ms/step - loss: 0.1202 - val_loss: 0.0392\n",
      "Epoch 9/15\n",
      "150/150 [==============================] - 1s 4ms/step - loss: 0.0781 - val_loss: 0.0399\n",
      "Epoch 10/15\n",
      "150/150 [==============================] - 1s 4ms/step - loss: 0.0693 - val_loss: 0.0413\n",
      "Epoch 11/15\n",
      "150/150 [==============================] - 1s 4ms/step - loss: 0.0685 - val_loss: 0.0417\n",
      "Epoch 12/15\n",
      "150/150 [==============================] - 1s 4ms/step - loss: 0.0665 - val_loss: 0.0427\n",
      "Epoch 13/15\n",
      "150/150 [==============================] - 1s 4ms/step - loss: 0.0695 - val_loss: 0.0417\n",
      "Epoch 14/15\n",
      "150/150 [==============================] - 1s 4ms/step - loss: 0.0746 - val_loss: 0.0431\n",
      "Epoch 15/15\n",
      "150/150 [==============================] - 1s 8ms/step - loss: 0.0633 - val_loss: 0.0451\n"
     ]
    }
   ],
   "source": [
    "from keras.optimizers import RMSprop\n",
    "\n",
    "model_0.compile(optimizer=RMSprop(), loss='mae')\n",
    "history = model_0.fit(X_train, y_train,\n",
    "                        steps_per_epoch = 150,\n",
    "                        epochs = 15,\n",
    "                        validation_data = val_gen,\n",
    "                        validation_steps = 100)"
   ]
  },
  {
   "cell_type": "markdown",
   "metadata": {},
   "source": [
    "#### Display the loss curves for validation and training"
   ]
  },
  {
   "cell_type": "code",
   "execution_count": 7,
   "metadata": {},
   "outputs": [
    {
     "data": {
      "image/png": "[encoded data removed]",
      "text/plain": [
       "<Figure size 432x288 with 1 Axes>"
      ]
     },
     "metadata": {
      "needs_background": "light"
     },
     "output_type": "display_data"
    }
   ],
   "source": [
    "loss = history.history['loss']\n",
    "val_loss = history.history['val_loss']\n",
    "epochs = range(1, len(loss) + 1)\n",
    "plt.figure()\n",
    "plt.plot(epochs, loss, 'bo', label='Training loss')\n",
    "plt.plot(epochs, val_loss, 'r', label='Validation loss')\n",
    "plt.title('Training and validation loss')\n",
    "plt.legend()\n",
    "plt.show()"
   ]
  },
  {
   "cell_type": "markdown",
   "metadata": {},
   "source": [
    "#### Evaluate loss and `mae`"
   ]
  },
  {
   "cell_type": "code",
   "execution_count": 8,
   "metadata": {},
   "outputs": [
    {
     "name": "stdout",
     "output_type": "stream",
     "text": [
      "MAE = 8.283381787840916,\n",
      "loss = 1 - acf1 = 0.05081297410920238 \n"
     ]
    }
   ],
   "source": [
    "from sklearn.metrics import mean_absolute_error as MAE\n",
    "from statsmodels.tsa.stattools import acf\n",
    "\n",
    "pred = model_0.predict(X_test)\n",
    "\n",
    "mae = MAE(pred, y_test)\n",
    "loss = 1 - acf(pred.ravel() - y_test.ravel(), fft = False)[1]\n",
    "\n",
    "print('MAE = %s,\\nloss = 1 - acf1 = %s '%(mae, loss))"
   ]
  },
  {
   "cell_type": "markdown",
   "metadata": {},
   "source": [
    "## Using LSTM model\n",
    "\n"
   ]
  },
  {
   "cell_type": "code",
   "execution_count": 9,
   "metadata": {},
   "outputs": [
    {
     "name": "stdout",
     "output_type": "stream",
     "text": [
      "Model: \"sequential_2\"\n",
      "_________________________________________________________________\n",
      "Layer (type)                 Output Shape              Param #   \n",
      "=================================================================\n",
      "embedding_1 (Embedding)      (None, None, 60)          3840      \n",
      "_________________________________________________________________\n",
      "lstm_1 (LSTM)                (None, 64)                32000     \n",
      "_________________________________________________________________\n",
      "dense_5 (Dense)              (None, 32)                2080      \n",
      "_________________________________________________________________\n",
      "dense_6 (Dense)              (None, 1)                 33        \n",
      "=================================================================\n",
      "Total params: 37,953\n",
      "Trainable params: 37,953\n",
      "Non-trainable params: 0\n",
      "_________________________________________________________________\n"
     ]
    }
   ],
   "source": [
    "from keras.layers import LSTM\n",
    "\n",
    "m1 = Sequential()\n",
    "m1.add(Embedding(64, X_train.shape[-1]))\n",
    "m1.add(LSTM(64, dropout = 0.1, recurrent_dropout = 0.1))\n",
    "m1.add(Dense(32, activation = 'relu'))\n",
    "m1.add(Dense(1))\n",
    "m1.compile(optimizer = 'rmsprop', \n",
    "              loss = 'mae')\n",
    "m1.summary()"
   ]
  },
  {
   "cell_type": "code",
   "execution_count": 10,
   "metadata": {},
   "outputs": [
    {
     "name": "stderr",
     "output_type": "stream",
     "text": [
      "C:\\Users\\Admin\\.conda\\envs\\projecy\\lib\\site-packages\\tensorflow_core\\python\\framework\\indexed_slices.py:433: UserWarning: Converting sparse IndexedSlices to a dense Tensor of unknown shape. This may consume a large amount of memory.\n",
      "  \"Converting sparse IndexedSlices to a dense Tensor of unknown shape. \"\n"
     ]
    },
    {
     "name": "stdout",
     "output_type": "stream",
     "text": [
      "Train on 128 samples, validate on 128 samples\n",
      "Epoch 1/10\n",
      "25/25 [==============================] - 85s 3s/step - loss: 0.3922 - val_loss: 0.0762\n",
      "Epoch 2/10\n",
      "25/25 [==============================] - 80s 3s/step - loss: 0.1364 - val_loss: 0.0947\n",
      "Epoch 3/10\n",
      "25/25 [==============================] - 79s 3s/step - loss: 0.1047 - val_loss: 0.0816\n",
      "Epoch 4/10\n",
      "25/25 [==============================] - 68s 3s/step - loss: 0.0954 - val_loss: 0.0925\n",
      "Epoch 5/10\n",
      "25/25 [==============================] - 68s 3s/step - loss: 0.0851 - val_loss: 0.0825\n",
      "Epoch 6/10\n",
      "25/25 [==============================] - 70s 3s/step - loss: 0.0781 - val_loss: 0.0924\n",
      "Epoch 7/10\n",
      "25/25 [==============================] - 71s 3s/step - loss: 0.0733 - val_loss: 0.0821\n",
      "Epoch 8/10\n",
      "25/25 [==============================] - 70s 3s/step - loss: 0.0693 - val_loss: 0.0908\n",
      "Epoch 9/10\n",
      "25/25 [==============================] - 70s 3s/step - loss: 0.0657 - val_loss: 0.0825\n",
      "Epoch 10/10\n",
      "25/25 [==============================] - 70s 3s/step - loss: 0.0624 - val_loss: 0.0897\n"
     ]
    }
   ],
   "source": [
    "history = m1.fit(X_train.reshape(128, -1), y_train,\n",
    "                    shuffle = False,\n",
    "                    steps_per_epoch = 25,\n",
    "                    epochs = 10,\n",
    "                    validation_data = (X_val.reshape(128, -1), y_val),\n",
    "                    validation_steps = 15)"
   ]
  },
  {
   "cell_type": "markdown",
   "metadata": {},
   "source": [
    "With only `25 step/epochs` at training and only `15 steps at validation`, but the `LSTM` takes about `3-5 seconds / step`, so it it might be not a `good method` to train a model!\n",
    "\n",
    "In the next section, we will try `GRU 's model`"
   ]
  },
  {
   "cell_type": "code",
   "execution_count": 11,
   "metadata": {},
   "outputs": [
    {
     "data": {
      "image/png": "[encoded data removed]",
      "text/plain": [
       "<Figure size 432x288 with 1 Axes>"
      ]
     },
     "metadata": {
      "needs_background": "light"
     },
     "output_type": "display_data"
    }
   ],
   "source": [
    "loss = history.history['loss']\n",
    "val_loss = history.history['val_loss']\n",
    "epochs = range(1, len(loss) + 1)\n",
    "plt.figure()\n",
    "plt.plot(epochs, loss, 'bo', label='Training loss')\n",
    "plt.plot(epochs, val_loss, 'r', label='Validation loss')\n",
    "plt.title('Training and validation loss')\n",
    "plt.legend()\n",
    "plt.show()"
   ]
  },
  {
   "cell_type": "markdown",
   "metadata": {},
   "source": [
    "From `epoch 4`, the `validation loss` is higher than the `training loss` which implies that this model still `significantly overfitting`!"
   ]
  },
  {
   "cell_type": "code",
   "execution_count": 12,
   "metadata": {},
   "outputs": [
    {
     "name": "stdout",
     "output_type": "stream",
     "text": [
      "MAE = 1.846721226568627,\n",
      "loss = 1 - acf1 = 0.09808004696779371 \n"
     ]
    }
   ],
   "source": [
    "pred = m1.predict(X_test.reshape(128, -1))\n",
    "\n",
    "mae = MAE(pred, y_test)\n",
    "loss = 1 - acf(pred.ravel() - y_test.ravel(), fft = False)[1]\n",
    "\n",
    "print('MAE = %s,\\nloss = 1 - acf1 = %s '%(mae, loss))"
   ]
  },
  {
   "cell_type": "markdown",
   "metadata": {},
   "source": [
    "##  Training and evaluating a GRU-based model\n",
    "\n",
    "**`Gated recurrent unit (GRU)`** layers work using the same principle as `LSTM`, but they’re somewhat `streamlined and thus\n",
    "cheaper to run` (***although they may not have as much representational power as LSTM)***. This trade-off between computational expensiveness and representational power is seen everywhere in `machine learning`."
   ]
  },
  {
   "cell_type": "code",
   "execution_count": 13,
   "metadata": {},
   "outputs": [
    {
     "data": {
      "text/plain": [
       "(599898, 599900)"
      ]
     },
     "execution_count": 13,
     "metadata": {},
     "output_type": "execute_result"
    }
   ],
   "source": [
    "# How many steps to draw from val_gen in order to see the entire validation se\n",
    "val_steps = (nb_vld - 1 - lookback) ## i.e.: (nb_vld + nb_train) - (nb_train + 1) - lookback\n",
    "\n",
    "# How many steps to draw from test_gen in order to see the entire test set \n",
    "test_steps = (len(df) - (nb_train + nb_vld + 1) - lookback)\n",
    "val_steps, test_steps"
   ]
  },
  {
   "cell_type": "code",
   "execution_count": 14,
   "metadata": {},
   "outputs": [
    {
     "name": "stdout",
     "output_type": "stream",
     "text": [
      "Model: \"sequential_3\"\n",
      "_________________________________________________________________\n",
      "Layer (type)                 Output Shape              Param #   \n",
      "=================================================================\n",
      "gru_1 (GRU)                  (None, 32)                8928      \n",
      "_________________________________________________________________\n",
      "dense_7 (Dense)              (None, 1)                 33        \n",
      "=================================================================\n",
      "Total params: 8,961\n",
      "Trainable params: 8,961\n",
      "Non-trainable params: 0\n",
      "_________________________________________________________________\n"
     ]
    }
   ],
   "source": [
    "model_2 = Sequential()\n",
    "model_2.add(layers.GRU(32, input_shape = (None, X_train.shape[-1])))\n",
    "model_2.add(layers.Dense(1))\n",
    "model_2.compile(optimizer = RMSprop(), \n",
    "              loss = 'mae')\n",
    "model_2.summary()"
   ]
  },
  {
   "cell_type": "code",
   "execution_count": 15,
   "metadata": {},
   "outputs": [
    {
     "name": "stdout",
     "output_type": "stream",
     "text": [
      "Train on 128 samples, validate on 128 samples\n",
      "Epoch 1/20\n",
      "500/500 [==============================] - 21s 42ms/step - loss: 0.0715 - val_loss: 0.0020\n",
      "Epoch 2/20\n",
      "500/500 [==============================] - 20s 40ms/step - loss: 0.0320 - val_loss: 0.0039\n",
      "Epoch 3/20\n",
      "500/500 [==============================] - 20s 40ms/step - loss: 0.0194 - val_loss: 0.0057\n",
      "Epoch 4/20\n",
      "500/500 [==============================] - 21s 42ms/step - loss: 0.0159 - val_loss: 0.0077\n",
      "Epoch 5/20\n",
      "500/500 [==============================] - 21s 42ms/step - loss: 0.0144 - val_loss: 0.0114\n",
      "Epoch 6/20\n",
      "500/500 [==============================] - 21s 41ms/step - loss: 0.0133 - val_loss: 0.0131\n",
      "Epoch 7/20\n",
      "500/500 [==============================] - 21s 42ms/step - loss: 0.0126 - val_loss: 0.0140\n",
      "Epoch 8/20\n",
      "500/500 [==============================] - 19s 38ms/step - loss: 0.0123 - val_loss: 0.0144\n",
      "Epoch 9/20\n",
      "500/500 [==============================] - 21s 42ms/step - loss: 0.0122 - val_loss: 0.0144\n",
      "Epoch 10/20\n",
      "500/500 [==============================] - 20s 40ms/step - loss: 0.0121 - val_loss: 0.0143\n",
      "Epoch 11/20\n",
      "500/500 [==============================] - 20s 39ms/step - loss: 0.0121 - val_loss: 0.0145\n",
      "Epoch 12/20\n",
      "500/500 [==============================] - 19s 39ms/step - loss: 0.0120 - val_loss: 0.0145\n",
      "Epoch 13/20\n",
      "500/500 [==============================] - 20s 41ms/step - loss: 0.0120 - val_loss: 0.0147\n",
      "Epoch 14/20\n",
      "500/500 [==============================] - 20s 40ms/step - loss: 0.0120 - val_loss: 0.0148\n",
      "Epoch 15/20\n",
      "500/500 [==============================] - 20s 41ms/step - loss: 0.0120 - val_loss: 0.0150\n",
      "Epoch 16/20\n",
      "500/500 [==============================] - 20s 40ms/step - loss: 0.0120 - val_loss: 0.0151\n",
      "Epoch 17/20\n",
      "500/500 [==============================] - 20s 40ms/step - loss: 0.0120 - val_loss: 0.0152\n",
      "Epoch 18/20\n",
      "500/500 [==============================] - 20s 40ms/step - loss: 0.0119 - val_loss: 0.0152\n",
      "Epoch 19/20\n",
      "500/500 [==============================] - 21s 43ms/step - loss: 0.0119 - val_loss: 0.0153\n",
      "Epoch 20/20\n",
      "500/500 [==============================] - 21s 42ms/step - loss: 0.0119 - val_loss: 0.0153\n"
     ]
    }
   ],
   "source": [
    "history = model_2.fit(X_train, y_train,\n",
    "                        shuffle = False,\n",
    "                        steps_per_epoch = 500,\n",
    "                        epochs = 20,\n",
    "                        validation_data = (X_val, y_val),\n",
    "                        validation_steps = val_steps)"
   ]
  },
  {
   "cell_type": "code",
   "execution_count": 16,
   "metadata": {},
   "outputs": [
    {
     "data": {
      "image/png": "[encoded data removed]",
      "text/plain": [
       "<Figure size 432x288 with 1 Axes>"
      ]
     },
     "metadata": {
      "needs_background": "light"
     },
     "output_type": "display_data"
    }
   ],
   "source": [
    "loss = history.history['loss']\n",
    "val_loss = history.history['val_loss']\n",
    "epochs = range(1, len(loss) + 1)\n",
    "plt.figure()\n",
    "plt.plot(epochs, loss, 'bo', label='Training loss')\n",
    "plt.plot(epochs, val_loss, 'r', label='Validation loss')\n",
    "plt.title('Training and validation loss')\n",
    "plt.legend()\n",
    "plt.show()"
   ]
  },
  {
   "cell_type": "code",
   "execution_count": 17,
   "metadata": {},
   "outputs": [],
   "source": [
    "import time \n",
    "start_time = time.time()"
   ]
  },
  {
   "cell_type": "code",
   "execution_count": 18,
   "metadata": {},
   "outputs": [],
   "source": [
    "model_2.save('XTX_group.h5')"
   ]
  },
  {
   "cell_type": "markdown",
   "metadata": {},
   "source": [
    "#### predict"
   ]
  },
  {
   "cell_type": "code",
   "execution_count": 19,
   "metadata": {},
   "outputs": [
    {
     "name": "stdout",
     "output_type": "stream",
     "text": [
      "MAE = 0.4765582911341311,\n",
      "loss = 1 - acf1 = 0.04410216110143239 \n"
     ]
    }
   ],
   "source": [
    "from keras.models import load_model\n",
    "\n",
    "model = load_model('XTX_group.h5')\n",
    "\n",
    "pred = model.predict(X_test)\n",
    "\n",
    "mae = MAE(pred, y_test)\n",
    "loss = 1 - acf(pred.ravel() - y_test.ravel(), fft = False)[1]\n",
    "\n",
    "print('MAE = %s,\\nloss = 1 - acf1 = %s '%(mae, loss))"
   ]
  },
  {
   "cell_type": "markdown",
   "metadata": {},
   "source": [
    "### Drop-out combine with GRU\n",
    "\n",
    "**Using `recurrent dropout` to fight `overfitting`**. \n",
    "\n",
    "It’s `evident` from the `training` and `validation curves` that the model is `overfitting`: the training and validation losses start to diverge considerably after a few epochs. We’re already familiar with a classic technique for fighting this phenomenon: dropout, which randomly zeros out input units of a layer in order to break happenstance correlations in the training data that the layer is exposed to. \n",
    "\n",
    "But how to correctly apply `dropout` in `recurrent networks` isn’t a trivial question. It has long been known that applying dropout before a `recurrent layer` hinders learning rather than helping with `regularization`. \n",
    "\n",
    "In 2015, Yarin Gal, as part of his PhD thesis on Bayesian deep learning, determined the proper way to use dropout with a recurrent network: `the same dropout mask (the same pattern of dropped units) should be applied at every timestep, instead of a dropout mask that varies randomly from timestep to timestep`.\n",
    "\n",
    "What’s more, in order to regularize the representations formed by the recurrent gates of layers such as `GRU` and `LSTM`, a temporally `constant dropout mask` should be applied to the inner `recurrent activations` of the layer (a `recurrent dropout mask`). Using the same dropout mask at every timestep allows the network to properly propagate its learning error through time; a temporally random dropout mask would disrupt this error signal and be harmful to the learning process.\n",
    "\n",
    "Every recurrent layer in Keras has `two dropout-related arguments`: \n",
    "> `dropout`, a float specifying the dropout rate for input units of the layer, and\n",
    ">\n",
    "> `recurrent_dropout`, specifying the dropout rate of the recurrent units. \n",
    "\n",
    "Let’s add `dropout` and `recurrent dropout` to the `GRU layer` and see how doing so impacts overfitting. Because networks being regularized with dropout always take longer to fully converge, you’ll train the network for twice as many epochs."
   ]
  },
  {
   "cell_type": "code",
   "execution_count": 20,
   "metadata": {},
   "outputs": [
    {
     "name": "stdout",
     "output_type": "stream",
     "text": [
      "Model: \"sequential_4\"\n",
      "_________________________________________________________________\n",
      "Layer (type)                 Output Shape              Param #   \n",
      "=================================================================\n",
      "gru_2 (GRU)                  (None, None, 32)          8928      \n",
      "_________________________________________________________________\n",
      "gru_3 (GRU)                  (None, 64)                18624     \n",
      "_________________________________________________________________\n",
      "dense_8 (Dense)              (None, 1)                 65        \n",
      "=================================================================\n",
      "Total params: 27,617\n",
      "Trainable params: 27,617\n",
      "Non-trainable params: 0\n",
      "_________________________________________________________________\n"
     ]
    }
   ],
   "source": [
    "model_3 = Sequential()\n",
    "model_3.add(layers.GRU(32,\n",
    "                        dropout=0.1,\n",
    "                        recurrent_dropout=0.1,\n",
    "                        return_sequences=True,\n",
    "                        input_shape=(None, X_train.shape[-1])))\n",
    "model_3.add(layers.GRU(64, activation='relu',\n",
    "                        dropout=0.1,\n",
    "                        recurrent_dropout=0.1))\n",
    "model_3.add(layers.Dense(1))\n",
    "model_3.compile(optimizer=RMSprop(), loss='mae')\n",
    "model_3.summary()"
   ]
  },
  {
   "cell_type": "code",
   "execution_count": 21,
   "metadata": {},
   "outputs": [
    {
     "name": "stdout",
     "output_type": "stream",
     "text": [
      "Train on 128 samples, validate on 128 samples\n",
      "Epoch 1/40\n",
      "500/500 [==============================] - 52s 103ms/step - loss: 0.0760 - val_loss: 0.0034\n",
      "Epoch 2/40\n",
      "500/500 [==============================] - 46s 91ms/step - loss: 0.0401 - val_loss: 0.0040\n",
      "Epoch 3/40\n",
      "500/500 [==============================] - 44s 89ms/step - loss: 0.0326 - val_loss: 0.0045\n",
      "Epoch 4/40\n",
      "500/500 [==============================] - 45s 91ms/step - loss: 0.0284 - val_loss: 0.0048\n",
      "Epoch 5/40\n",
      "500/500 [==============================] - 46s 91ms/step - loss: 0.0259 - val_loss: 0.0050\n",
      "Epoch 6/40\n",
      "500/500 [==============================] - 44s 88ms/step - loss: 0.0242 - val_loss: 0.0050\n",
      "Epoch 7/40\n",
      "500/500 [==============================] - 44s 88ms/step - loss: 0.0227 - val_loss: 0.0050\n",
      "Epoch 8/40\n",
      "500/500 [==============================] - 45s 89ms/step - loss: 0.0217 - val_loss: 0.0051\n",
      "Epoch 9/40\n",
      "500/500 [==============================] - 45s 89ms/step - loss: 0.0207 - val_loss: 0.0052\n",
      "Epoch 10/40\n",
      "500/500 [==============================] - 44s 89ms/step - loss: 0.0201 - val_loss: 0.0052\n",
      "Epoch 11/40\n",
      "500/500 [==============================] - 45s 90ms/step - loss: 0.0195 - val_loss: 0.0053\n",
      "Epoch 12/40\n",
      "500/500 [==============================] - 45s 89ms/step - loss: 0.0189 - val_loss: 0.0053\n",
      "Epoch 13/40\n",
      "500/500 [==============================] - 45s 89ms/step - loss: 0.0184 - val_loss: 0.0052\n",
      "Epoch 14/40\n",
      "500/500 [==============================] - 45s 90ms/step - loss: 0.0178 - val_loss: 0.0052\n",
      "Epoch 15/40\n",
      "500/500 [==============================] - 45s 89ms/step - loss: 0.0174 - val_loss: 0.0052\n",
      "Epoch 16/40\n",
      "500/500 [==============================] - 44s 89ms/step - loss: 0.0169 - val_loss: 0.0052\n",
      "Epoch 17/40\n",
      "500/500 [==============================] - 45s 90ms/step - loss: 0.0164 - val_loss: 0.0053\n",
      "Epoch 18/40\n",
      "500/500 [==============================] - 45s 90ms/step - loss: 0.0160 - val_loss: 0.0053\n",
      "Epoch 19/40\n",
      "500/500 [==============================] - 48s 97ms/step - loss: 0.0155 - val_loss: 0.0053\n",
      "Epoch 20/40\n",
      "500/500 [==============================] - 51s 102ms/step - loss: 0.0151 - val_loss: 0.0052\n",
      "Epoch 21/40\n",
      "500/500 [==============================] - 50s 100ms/step - loss: 0.0145 - val_loss: 0.0052\n",
      "Epoch 22/40\n",
      "500/500 [==============================] - 46s 91ms/step - loss: 0.0140 - val_loss: 0.0052\n",
      "Epoch 23/40\n",
      "500/500 [==============================] - 46s 92ms/step - loss: 0.0136 - val_loss: 0.0053\n",
      "Epoch 24/40\n",
      "500/500 [==============================] - 47s 94ms/step - loss: 0.0132 - val_loss: 0.0052\n",
      "Epoch 25/40\n",
      "500/500 [==============================] - 49s 99ms/step - loss: 0.0129 - val_loss: 0.0052\n",
      "Epoch 26/40\n",
      "500/500 [==============================] - 47s 95ms/step - loss: 0.0126 - val_loss: 0.0052\n",
      "Epoch 27/40\n",
      "500/500 [==============================] - 49s 99ms/step - loss: 0.0123 - val_loss: 0.0052\n",
      "Epoch 28/40\n",
      "500/500 [==============================] - 48s 95ms/step - loss: 0.0120 - val_loss: 0.0051\n",
      "Epoch 29/40\n",
      "500/500 [==============================] - 48s 96ms/step - loss: 0.0116 - val_loss: 0.0052\n",
      "Epoch 30/40\n",
      "500/500 [==============================] - 48s 95ms/step - loss: 0.0113 - val_loss: 0.0052\n",
      "Epoch 31/40\n",
      "500/500 [==============================] - 48s 95ms/step - loss: 0.0109 - val_loss: 0.0052\n",
      "Epoch 32/40\n",
      "500/500 [==============================] - 48s 96ms/step - loss: 0.0106 - val_loss: 0.0052\n",
      "Epoch 33/40\n",
      "500/500 [==============================] - 48s 97ms/step - loss: 0.0103 - val_loss: 0.0052\n",
      "Epoch 34/40\n",
      "500/500 [==============================] - 48s 95ms/step - loss: 0.0101 - val_loss: 0.0052\n",
      "Epoch 35/40\n",
      "500/500 [==============================] - 49s 98ms/step - loss: 0.0098 - val_loss: 0.0052\n",
      "Epoch 36/40\n",
      "500/500 [==============================] - 48s 96ms/step - loss: 0.0096 - val_loss: 0.0052\n",
      "Epoch 37/40\n",
      "500/500 [==============================] - 49s 97ms/step - loss: 0.0095 - val_loss: 0.0052\n",
      "Epoch 38/40\n",
      "500/500 [==============================] - 48s 97ms/step - loss: 0.0094 - val_loss: 0.0052\n",
      "Epoch 39/40\n",
      "500/500 [==============================] - 51s 102ms/step - loss: 0.0092 - val_loss: 0.0052\n",
      "Epoch 40/40\n",
      "500/500 [==============================] - 49s 97ms/step - loss: 0.0091 - val_loss: 0.0052\n"
     ]
    }
   ],
   "source": [
    "history = model_3.fit(X_train, y_train,\n",
    "                        steps_per_epoch = 500,\n",
    "                        epochs = 40,\n",
    "                        validation_data = (X_val, y_val),\n",
    "                        validation_steps = val_steps)"
   ]
  },
  {
   "cell_type": "code",
   "execution_count": 22,
   "metadata": {},
   "outputs": [
    {
     "data": {
      "image/png": "[encoded data removed]",
      "text/plain": [
       "<Figure size 432x288 with 1 Axes>"
      ]
     },
     "metadata": {
      "needs_background": "light"
     },
     "output_type": "display_data"
    }
   ],
   "source": [
    "loss = history.history['loss']\n",
    "val_loss = history.history['val_loss']\n",
    "epochs = range(1, len(loss) + 1)\n",
    "plt.figure()\n",
    "plt.plot(epochs, loss, 'bo', label='Training loss')\n",
    "plt.plot(epochs, val_loss, 'b', label='Validation loss')\n",
    "plt.title('Training and validation loss')\n",
    "plt.legend()\n",
    "plt.show()"
   ]
  },
  {
   "cell_type": "code",
   "execution_count": 23,
   "metadata": {},
   "outputs": [
    {
     "name": "stdout",
     "output_type": "stream",
     "text": [
      "MAE = 1.8190339489237544,\n",
      "loss = 1 - acf1 = 0.05724752285093948 \n"
     ]
    }
   ],
   "source": [
    "pred = model_3.predict(X_test)\n",
    "\n",
    "mae = MAE(pred, y_test)\n",
    "loss = 1 - acf(pred.ravel() - y_test.ravel(), fft = False)[1]\n",
    "\n",
    "print('MAE = %s,\\nloss = 1 - acf1 = %s '%(mae, loss))"
   ]
  },
  {
   "cell_type": "markdown",
   "metadata": {},
   "source": [
    "## Training and evaluating a `bidirectional LSTM`"
   ]
  },
  {
   "cell_type": "code",
   "execution_count": 28,
   "metadata": {},
   "outputs": [
    {
     "name": "stdout",
     "output_type": "stream",
     "text": [
      "Model: \"sequential_6\"\n",
      "_________________________________________________________________\n",
      "Layer (type)                 Output Shape              Param #   \n",
      "=================================================================\n",
      "embedding_3 (Embedding)      (None, None, 60)          1920      \n",
      "_________________________________________________________________\n",
      "bidirectional_2 (Bidirection (None, 64)                23808     \n",
      "_________________________________________________________________\n",
      "dense_10 (Dense)             (None, 1)                 65        \n",
      "=================================================================\n",
      "Total params: 25,793\n",
      "Trainable params: 25,793\n",
      "Non-trainable params: 0\n",
      "_________________________________________________________________\n"
     ]
    }
   ],
   "source": [
    "model_4 = Sequential()\n",
    "model_4.add(layers.Embedding(32, X_train.shape[-1]))\n",
    "model_4.add(layers.Bidirectional(layers.LSTM(32)))\n",
    "model_4.add(layers.Dense(1, activation='relu'))\n",
    "\n",
    "model_4.compile(optimizer='rmsprop', loss='mae')\n",
    "model_4.summary()"
   ]
  },
  {
   "cell_type": "code",
   "execution_count": 29,
   "metadata": {},
   "outputs": [
    {
     "name": "stderr",
     "output_type": "stream",
     "text": [
      "C:\\Users\\Admin\\.conda\\envs\\projecy\\lib\\site-packages\\tensorflow_core\\python\\framework\\indexed_slices.py:433: UserWarning: Converting sparse IndexedSlices to a dense Tensor of unknown shape. This may consume a large amount of memory.\n",
      "  \"Converting sparse IndexedSlices to a dense Tensor of unknown shape. \"\n"
     ]
    },
    {
     "name": "stdout",
     "output_type": "stream",
     "text": [
      "Train on 102 samples, validate on 26 samples\n",
      "Epoch 1/10\n",
      "100/100 [==============================] - 567s 6s/step - loss: 1.2504 - val_loss: 0.0198\n",
      "Epoch 2/10\n",
      "100/100 [==============================] - 549s 5s/step - loss: 1.2503 - val_loss: 0.0198\n",
      "Epoch 3/10\n",
      "100/100 [==============================] - 543s 5s/step - loss: 1.2503 - val_loss: 0.0198\n",
      "Epoch 4/10\n",
      "100/100 [==============================] - 540s 5s/step - loss: 1.2503 - val_loss: 0.0198\n",
      "Epoch 5/10\n",
      "100/100 [==============================] - 541s 5s/step - loss: 1.2503 - val_loss: 0.0198\n",
      "Epoch 6/10\n",
      "100/100 [==============================] - 536s 5s/step - loss: 1.2503 - val_loss: 0.0198\n",
      "Epoch 7/10\n",
      "100/100 [==============================] - 543s 5s/step - loss: 1.2503 - val_loss: 0.0198\n",
      "Epoch 8/10\n",
      "100/100 [==============================] - 542s 5s/step - loss: 1.2503 - val_loss: 0.0198\n",
      "Epoch 9/10\n",
      "100/100 [==============================] - 537s 5s/step - loss: 1.2503 - val_loss: 0.0198\n",
      "Epoch 10/10\n",
      "100/100 [==============================] - 541s 5s/step - loss: 1.2503 - val_loss: 0.0198\n"
     ]
    }
   ],
   "source": [
    "history = model_4.fit(X_train.reshape(128, -1), y_train,\n",
    "                        epochs = 10,\n",
    "                        steps_per_epoch = 100,\n",
    "                        validation_split = 0.2, \n",
    "                      validation_steps = val_steps)"
   ]
  },
  {
   "cell_type": "code",
   "execution_count": 30,
   "metadata": {},
   "outputs": [
    {
     "data": {
      "image/png": "[encoded data removed]",
      "text/plain": [
       "<Figure size 432x288 with 1 Axes>"
      ]
     },
     "metadata": {
      "needs_background": "light"
     },
     "output_type": "display_data"
    }
   ],
   "source": [
    "loss = history.history['loss']\n",
    "val_loss = history.history['val_loss']\n",
    "epochs = range(1, len(loss) + 1)\n",
    "plt.figure()\n",
    "plt.plot(epochs, loss, 'bo', label='Training loss')\n",
    "plt.plot(epochs, val_loss, 'b', label='Validation loss')\n",
    "plt.title('Training and validation loss')\n",
    "plt.legend()\n",
    "plt.show()"
   ]
  },
  {
   "cell_type": "code",
   "execution_count": 31,
   "metadata": {},
   "outputs": [
    {
     "name": "stdout",
     "output_type": "stream",
     "text": [
      "MAE = 0.7025788819746255,\n",
      "loss = 1 - acf1 = 0.019612712333100468 \n"
     ]
    }
   ],
   "source": [
    "pred = model_4.predict(X_test.reshape(128, -1))\n",
    "\n",
    "mae = MAE(pred, y_test)\n",
    "loss = 1 - acf(pred.ravel() - y_test.ravel(), fft = False)[1]\n",
    "\n",
    "print('MAE = %s,\\nloss = 1 - acf1 = %s '%(mae, loss))"
   ]
  },
  {
   "cell_type": "markdown",
   "metadata": {},
   "source": [
    "## Training a `bidirectional GRU`"
   ]
  },
  {
   "cell_type": "code",
   "execution_count": 33,
   "metadata": {},
   "outputs": [
    {
     "name": "stdout",
     "output_type": "stream",
     "text": [
      "Model: \"sequential_8\"\n",
      "_________________________________________________________________\n",
      "Layer (type)                 Output Shape              Param #   \n",
      "=================================================================\n",
      "bidirectional_3 (Bidirection (None, 64)                17856     \n",
      "_________________________________________________________________\n",
      "dense_11 (Dense)             (None, 1)                 65        \n",
      "=================================================================\n",
      "Total params: 17,921\n",
      "Trainable params: 17,921\n",
      "Non-trainable params: 0\n",
      "_________________________________________________________________\n"
     ]
    }
   ],
   "source": [
    "model_5 = Sequential()\n",
    "model_5.add(layers.Bidirectional(\n",
    "    layers.GRU(32), \n",
    "    input_shape=(None, X_train.shape[-1])))\n",
    "model_5.add(layers.Dense(1))\n",
    "model_5.compile(optimizer=RMSprop(), loss='mae')\n",
    "model_5.summary()"
   ]
  },
  {
   "cell_type": "code",
   "execution_count": 34,
   "metadata": {},
   "outputs": [
    {
     "name": "stdout",
     "output_type": "stream",
     "text": [
      "Train on 128 samples, validate on 128 samples\n",
      "Epoch 1/40\n",
      "200/200 [==============================] - 18s 88ms/step - loss: 0.1566 - val_loss: 0.0010\n",
      "Epoch 2/40\n",
      "200/200 [==============================] - 17s 86ms/step - loss: 0.0952 - val_loss: 9.2603e-04\n",
      "Epoch 3/40\n",
      "200/200 [==============================] - 17s 86ms/step - loss: 0.0710 - val_loss: 7.1533e-04\n",
      "Epoch 4/40\n",
      "200/200 [==============================] - 18s 88ms/step - loss: 0.0555 - val_loss: 6.5993e-04\n",
      "Epoch 5/40\n",
      "200/200 [==============================] - 18s 88ms/step - loss: 0.0462 - val_loss: 6.7793e-04\n",
      "Epoch 6/40\n",
      "200/200 [==============================] - 19s 93ms/step - loss: 0.0399 - val_loss: 7.4047e-04\n",
      "Epoch 7/40\n",
      "200/200 [==============================] - 19s 96ms/step - loss: 0.0353 - val_loss: 8.1583e-04\n",
      "Epoch 8/40\n",
      "200/200 [==============================] - 18s 91ms/step - loss: 0.0314 - val_loss: 7.9913e-04\n",
      "Epoch 9/40\n",
      "200/200 [==============================] - 18s 91ms/step - loss: 0.0289 - val_loss: 8.0341e-04\n",
      "Epoch 10/40\n",
      "200/200 [==============================] - 18s 91ms/step - loss: 0.0267 - val_loss: 7.3055e-04\n",
      "Epoch 11/40\n",
      "200/200 [==============================] - 18s 92ms/step - loss: 0.0251 - val_loss: 6.6588e-04\n",
      "Epoch 12/40\n",
      "200/200 [==============================] - 18s 92ms/step - loss: 0.0237 - val_loss: 5.8753e-04\n",
      "Epoch 13/40\n",
      "200/200 [==============================] - 18s 90ms/step - loss: 0.0225 - val_loss: 5.0667e-04\n",
      "Epoch 14/40\n",
      "200/200 [==============================] - 18s 92ms/step - loss: 0.0216 - val_loss: 4.7810e-04\n",
      "Epoch 15/40\n",
      "200/200 [==============================] - 19s 93ms/step - loss: 0.0207 - val_loss: 5.3075e-04\n",
      "Epoch 16/40\n",
      "200/200 [==============================] - 18s 92ms/step - loss: 0.0199 - val_loss: 7.3704e-04\n",
      "Epoch 17/40\n",
      "200/200 [==============================] - 19s 93ms/step - loss: 0.0193 - val_loss: 8.0852e-04\n",
      "Epoch 18/40\n",
      "200/200 [==============================] - 18s 92ms/step - loss: 0.0187 - val_loss: 9.3446e-04\n",
      "Epoch 19/40\n",
      "200/200 [==============================] - 19s 94ms/step - loss: 0.0184 - val_loss: 9.6856e-04\n",
      "Epoch 20/40\n",
      "200/200 [==============================] - 19s 93ms/step - loss: 0.0179 - val_loss: 0.0011\n",
      "Epoch 21/40\n",
      "200/200 [==============================] - 19s 94ms/step - loss: 0.0175 - val_loss: 0.0012\n",
      "Epoch 22/40\n",
      "200/200 [==============================] - 19s 94ms/step - loss: 0.0173 - val_loss: 0.0013\n",
      "Epoch 23/40\n",
      "200/200 [==============================] - 19s 93ms/step - loss: 0.0169 - val_loss: 0.0012\n",
      "Epoch 24/40\n",
      "200/200 [==============================] - 19s 93ms/step - loss: 0.0166 - val_loss: 0.0012\n",
      "Epoch 25/40\n",
      "200/200 [==============================] - 19s 94ms/step - loss: 0.0164 - val_loss: 0.0012\n",
      "Epoch 26/40\n",
      "200/200 [==============================] - 19s 96ms/step - loss: 0.0161 - val_loss: 0.0011\n",
      "Epoch 27/40\n",
      "200/200 [==============================] - 19s 94ms/step - loss: 0.0159 - val_loss: 0.0010\n",
      "Epoch 28/40\n",
      "200/200 [==============================] - 18s 92ms/step - loss: 0.0159 - val_loss: 9.8401e-04\n",
      "Epoch 29/40\n",
      "200/200 [==============================] - 19s 94ms/step - loss: 0.0156 - val_loss: 9.9218e-04\n",
      "Epoch 30/40\n",
      "200/200 [==============================] - 19s 94ms/step - loss: 0.0154 - val_loss: 9.7738e-04\n",
      "Epoch 31/40\n",
      "200/200 [==============================] - 19s 93ms/step - loss: 0.0153 - val_loss: 9.8572e-04\n",
      "Epoch 32/40\n",
      "200/200 [==============================] - 19s 95ms/step - loss: 0.0152 - val_loss: 0.0010\n",
      "Epoch 33/40\n",
      "200/200 [==============================] - 19s 94ms/step - loss: 0.0150 - val_loss: 0.0011\n",
      "Epoch 34/40\n",
      "200/200 [==============================] - 1162s 6s/step - loss: 0.0149 - val_loss: 0.0011\n",
      "Epoch 35/40\n",
      "200/200 [==============================] - 17s 87ms/step - loss: 0.0147 - val_loss: 0.0014\n",
      "Epoch 36/40\n",
      "200/200 [==============================] - 17s 86ms/step - loss: 0.0147 - val_loss: 0.0014\n",
      "Epoch 37/40\n",
      "200/200 [==============================] - 18s 89ms/step - loss: 0.0145 - val_loss: 0.0014\n",
      "Epoch 38/40\n",
      "200/200 [==============================] - 18s 91ms/step - loss: 0.0144 - val_loss: 0.0016\n",
      "Epoch 39/40\n",
      "200/200 [==============================] - 18s 92ms/step - loss: 0.0144 - val_loss: 0.0015\n",
      "Epoch 40/40\n",
      "200/200 [==============================] - 19s 93ms/step - loss: 0.0144 - val_loss: 0.0015\n"
     ]
    }
   ],
   "source": [
    "history = model_5.fit(X_train, y_train,\n",
    "                        steps_per_epoch = 200,\n",
    "                        epochs = 40,\n",
    "                        validation_data = (X_val, y_val),\n",
    "                        validation_steps = val_steps)"
   ]
  },
  {
   "cell_type": "code",
   "execution_count": 35,
   "metadata": {},
   "outputs": [
    {
     "data": {
      "image/png": "[encoded data removed]",
      "text/plain": [
       "<Figure size 432x288 with 1 Axes>"
      ]
     },
     "metadata": {
      "needs_background": "light"
     },
     "output_type": "display_data"
    }
   ],
   "source": [
    "loss = history.history['loss']\n",
    "val_loss = history.history['val_loss']\n",
    "epochs = range(1, len(loss) + 1)\n",
    "plt.figure()\n",
    "plt.plot(epochs, loss, 'bo', label='Training loss')\n",
    "plt.plot(epochs, val_loss, 'b', label='Validation loss')\n",
    "plt.title('Training and validation loss')\n",
    "plt.legend()\n",
    "plt.show()"
   ]
  },
  {
   "cell_type": "code",
   "execution_count": 36,
   "metadata": {},
   "outputs": [
    {
     "name": "stdout",
     "output_type": "stream",
     "text": [
      "MAE = 0.26001188975263845,\n",
      "loss = 1 - acf1 = 0.04260906165244083 \n"
     ]
    }
   ],
   "source": [
    "pred = model_5.predict(X_test)\n",
    "\n",
    "mae = MAE(pred, y_test)\n",
    "loss = 1 - acf(pred.ravel() - y_test.ravel(), fft = False)[1]\n",
    "\n",
    "print('MAE = %s,\\nloss = 1 - acf1 = %s '%(mae, loss))"
   ]
  },
  {
   "cell_type": "code",
   "execution_count": null,
   "metadata": {},
   "outputs": [],
   "source": []
  }
 ],
 "metadata": {
  "kernelspec": {
   "display_name": "Python 3",
   "language": "python",
   "name": "python3"
  },
  "language_info": {
   "codemirror_mode": {
    "name": "ipython",
    "version": 3
   },
   "file_extension": ".py",
   "mimetype": "text/x-python",
   "name": "python",
   "nbconvert_exporter": "python",
   "pygments_lexer": "ipython3",
   "version": "3.7.7"
  },
  "toc": {
   "base_numbering": 1,
   "nav_menu": {},
   "number_sections": false,
   "sideBar": true,
   "skip_h1_title": false,
   "title_cell": "Table of Contents",
   "title_sidebar": "Contents",
   "toc_cell": false,
   "toc_position": {},
   "toc_section_display": true,
   "toc_window_display": false
  }
 },
 "nbformat": 4,
 "nbformat_minor": 4
}
